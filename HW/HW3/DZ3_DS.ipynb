{
  "cells": [
    {
      "cell_type": "markdown",
      "id": "4c5300b0",
      "metadata": {
        "id": "4c5300b0"
      },
      "source": [
        "# Дз 3. Тестирование статистических гипотез"
      ]
    },
    {
      "cell_type": "markdown",
      "id": "e41ea851",
      "metadata": {
        "id": "e41ea851"
      },
      "source": [
        "<div class=\"alert alert-info\" role=\"alert\">\n",
        "\n",
        "Важно!\n",
        "\n",
        "* Плагиат карается обнулением работы\n",
        "* При использовании чужого кода из открытых источников необходимо указать ссылку на источник\n",
        "* В каждой задаче необходимо обосновывать выбор статистического критерия, формулировать нулевую и альтернативную гипотезу и делать интерпретацию получившихся результатов, а также содержательный вывод.\n",
        "* Весь текст оформляется строго в ячейках типа markdown"
      ]
    },
    {
      "cell_type": "markdown",
      "id": "e463f5b5",
      "metadata": {
        "id": "e463f5b5"
      },
      "source": [
        "## Задача 1. Осьминог Пауль (2 балла)\n",
        "\n",
        "\n",
        "В период с 2008 по 2010 год в Германии жил Осьминог Пауль, который был известен тем, что мог предсказывать результаты матчей с участием сборной Германии.     \n",
        "   \n",
        "В таблице ниже вы можете видеть результаты его предсказаний: \n"
      ]
    },
    {
      "cell_type": "markdown",
      "id": "63504b80",
      "metadata": {
        "id": "63504b80"
      },
      "source": [
        "<a href=\"https://ibb.co/VWnc5yG\"><img src=\"https://i.ibb.co/QFS3tBV/image.jpg\" alt=\"image\" border=\"0\"></a>"
      ]
    },
    {
      "cell_type": "markdown",
      "id": "346f6376",
      "metadata": {
        "id": "346f6376"
      },
      "source": [
        "Если считать, что случайным образом мы угадывали ли бы 50% матчей, то можно ли утверждать, что осьминог Пауль был талантливым экстрасенсом со способностями к предсказаниям?"
      ]
    },
    {
      "cell_type": "code",
      "execution_count": null,
      "id": "9072470f",
      "metadata": {
        "id": "9072470f"
      },
      "outputs": [],
      "source": [
        "### ╰( ͡° ͜ʖ ͡° )つ──☆ сотворите статистическую магию"
      ]
    },
    {
      "cell_type": "markdown",
      "id": "de312a8f",
      "metadata": {
        "id": "de312a8f"
      },
      "source": [
        "## Задача 2.  Корм и котики (2 балла)\n",
        "\n",
        "    \n",
        "Новый корм для котиков рекламируется с помощью рекламного баннера. Отдел маркетинга разработал для рекламы новый баннер. Они считают, что он более красивый. Перед фирмой возникла необходимость проверить какой из двух баннеров лучше.\n",
        "\n",
        "Для этого была создана специальная веб-форма. В этой веб-форме людям по очереди демонстрировали оба баннера и просили поставить лайк, если баннер нравится человеку. Если человеку нравятся оба баннера, он может поставить два лайка. Если ему не нравится ни один баннер, он может не ставить лайки вовсе. Собранные в конечном итоге данные находятся в табличке.\n",
        "\n",
        "Можно ли утверждать, что оба баннера одинаково хороши? Сформулируйте статистическую гипотезу для проверки того, что оба баннера выбирают одинаково часто. Проверьте ее и сделайте выводы.\n"
      ]
    },
    {
      "cell_type": "code",
      "execution_count": null,
      "id": "167378f2",
      "metadata": {
        "id": "167378f2"
      },
      "outputs": [],
      "source": [
        "### ╰( ͡° ͜ʖ ͡° )つ──☆ сотворите статистическую магию"
      ]
    },
    {
      "cell_type": "markdown",
      "id": "ceefe195",
      "metadata": {
        "id": "ceefe195"
      },
      "source": [
        "## Задача 3. Немного АВ-тестов (3 балла)\n",
        "## Игра Cookie Cat"
      ]
    },
    {
      "cell_type": "markdown",
      "id": "7a6e5960",
      "metadata": {
        "id": "7a6e5960"
      },
      "source": [
        "В этом задании мы поработаем с данными Cookie Cats - популярной игры-головоломки, которую разработала компания Tactile Entertainment. В этой игре игрок должен соединять одинаковые элементы в ряд, чтобы очистить поле и выиграть уровень. "
      ]
    },
    {
      "cell_type": "markdown",
      "id": "f010877f",
      "metadata": {
        "id": "f010877f"
      },
      "source": [
        "<p style=\"align: center;\"><img align=center src=\"https://i.ytimg.com/vi/iPxZIp0cbJE/maxresdefault.jpg\"  width=500></p>\n",
        " \n",
        " \n",
        "<p style=\"align: center;\"><img align=center src=\"https://s3.amazonaws.com/assets.datacamp.com/production/project_184/img/cc_gates.png\"  width=500></p>\n"
      ]
    },
    {
      "cell_type": "markdown",
      "id": "45a869f8",
      "metadata": {
        "id": "45a869f8"
      },
      "source": [
        "По мере прохождения уровней перед игроками появляются ворота, открытия которых нужно ждать какое-то время или пропускать их, совершая покупки в приложении. С точки зрения создателей эти ворота повышают интерес к игре и стимулируют к вложению денег в игру.\n"
      ]
    },
    {
      "cell_type": "markdown",
      "id": "1992bbd9",
      "metadata": {
        "id": "1992bbd9"
      },
      "source": [
        "Но у создателей появляется важный вопрос: **где лучше всего ставить ворота?**\n",
        "Первоначально первые ворота были размещены на уровне 30. Однако есть гипотеза, что лучше переместить их на уровень 40. В этом задании вам предлагается проанализировать результаты AB-теста, в котором создатели переместили первые ворота в Cookie Cats с 30 уровня на уровень 40. "
      ]
    },
    {
      "cell_type": "markdown",
      "id": "0178c412",
      "metadata": {
        "id": "0178c412"
      },
      "source": [
        "**Данные получены от 90 189 игроков, которые установили игру во время проведения AB-теста. Переменные:**\n",
        "\n",
        "* `userid` - уникальный номер, идентифицирующий каждого игрока.\n",
        "\n",
        "* `version` - был ли игрок помещен в контрольную группу (gate_30 - ворота на уровне 30) или в тестовую группу (gate_40 - ворота на уровне 40).\n",
        "\n",
        "* `sum_gamerounds` - количество игровых раундов, сыгранных игроком в течение первой недели после установки\n",
        "* `retention_1` - вернулся ли игрок в игру через 1 день после установки\n",
        "* `retention_7` - вернулся ли игрок в игру через 7 дней после установки\n",
        "\n",
        "Когда игрок устанавливал игру, ему случайным образом назначали `gate_30` или `gate_40`."
      ]
    },
    {
      "cell_type": "code",
      "execution_count": null,
      "id": "5d32953b",
      "metadata": {
        "id": "5d32953b",
        "outputId": "e19bff24-d56e-419f-9197-a6169b9e1cf4"
      },
      "outputs": [
        {
          "data": {
            "text/html": [
              "<div>\n",
              "<style scoped>\n",
              "    .dataframe tbody tr th:only-of-type {\n",
              "        vertical-align: middle;\n",
              "    }\n",
              "\n",
              "    .dataframe tbody tr th {\n",
              "        vertical-align: top;\n",
              "    }\n",
              "\n",
              "    .dataframe thead th {\n",
              "        text-align: right;\n",
              "    }\n",
              "</style>\n",
              "<table border=\"1\" class=\"dataframe\">\n",
              "  <thead>\n",
              "    <tr style=\"text-align: right;\">\n",
              "      <th></th>\n",
              "      <th>userid</th>\n",
              "      <th>version</th>\n",
              "      <th>sum_gamerounds</th>\n",
              "      <th>retention_1</th>\n",
              "      <th>retention_7</th>\n",
              "    </tr>\n",
              "  </thead>\n",
              "  <tbody>\n",
              "    <tr>\n",
              "      <th>0</th>\n",
              "      <td>116</td>\n",
              "      <td>gate_30</td>\n",
              "      <td>3</td>\n",
              "      <td>False</td>\n",
              "      <td>False</td>\n",
              "    </tr>\n",
              "    <tr>\n",
              "      <th>1</th>\n",
              "      <td>337</td>\n",
              "      <td>gate_30</td>\n",
              "      <td>38</td>\n",
              "      <td>True</td>\n",
              "      <td>False</td>\n",
              "    </tr>\n",
              "    <tr>\n",
              "      <th>2</th>\n",
              "      <td>377</td>\n",
              "      <td>gate_40</td>\n",
              "      <td>165</td>\n",
              "      <td>True</td>\n",
              "      <td>False</td>\n",
              "    </tr>\n",
              "    <tr>\n",
              "      <th>3</th>\n",
              "      <td>483</td>\n",
              "      <td>gate_40</td>\n",
              "      <td>1</td>\n",
              "      <td>False</td>\n",
              "      <td>False</td>\n",
              "    </tr>\n",
              "    <tr>\n",
              "      <th>4</th>\n",
              "      <td>488</td>\n",
              "      <td>gate_40</td>\n",
              "      <td>179</td>\n",
              "      <td>True</td>\n",
              "      <td>True</td>\n",
              "    </tr>\n",
              "  </tbody>\n",
              "</table>\n",
              "</div>"
            ],
            "text/plain": [
              "   userid  version  sum_gamerounds  retention_1  retention_7\n",
              "0     116  gate_30               3        False        False\n",
              "1     337  gate_30              38         True        False\n",
              "2     377  gate_40             165         True        False\n",
              "3     483  gate_40               1        False        False\n",
              "4     488  gate_40             179         True         True"
            ]
          },
          "execution_count": 2,
          "metadata": {},
          "output_type": "execute_result"
        }
      ],
      "source": [
        "import pandas as pd\n",
        "df = pd.read_csv('cookie_cats.csv')\n",
        "df.head()"
      ]
    },
    {
      "cell_type": "code",
      "execution_count": null,
      "id": "563bbcbb",
      "metadata": {
        "id": "563bbcbb",
        "outputId": "4467f65d-2988-455a-ebf0-ec78e3269d38"
      },
      "outputs": [
        {
          "name": "stdout",
          "output_type": "stream",
          "text": [
            "<class 'pandas.core.frame.DataFrame'>\n",
            "RangeIndex: 90189 entries, 0 to 90188\n",
            "Data columns (total 5 columns):\n",
            " #   Column          Non-Null Count  Dtype \n",
            "---  ------          --------------  ----- \n",
            " 0   userid          90189 non-null  int64 \n",
            " 1   version         90189 non-null  object\n",
            " 2   sum_gamerounds  90189 non-null  int64 \n",
            " 3   retention_1     90189 non-null  bool  \n",
            " 4   retention_7     90189 non-null  bool  \n",
            "dtypes: bool(2), int64(2), object(1)\n",
            "memory usage: 2.2+ MB\n"
          ]
        }
      ],
      "source": [
        "df.info()"
      ]
    },
    {
      "cell_type": "markdown",
      "id": "2bd5758d",
      "metadata": {
        "id": "2bd5758d"
      },
      "source": [
        "### Вопрос 1: есть ли зависимость между возвращаемостью игроков и расположением ворот?"
      ]
    },
    {
      "cell_type": "markdown",
      "id": "c5412061",
      "metadata": {
        "id": "c5412061"
      },
      "source": [
        "#### 1.1 Проверьте гипотезу для возвращения через день"
      ]
    },
    {
      "cell_type": "code",
      "execution_count": null,
      "id": "e7ee4751",
      "metadata": {
        "id": "e7ee4751"
      },
      "outputs": [],
      "source": [
        "### ╰( ͡° ͜ʖ ͡° )つ──☆ сотворите статистическую магию"
      ]
    },
    {
      "cell_type": "markdown",
      "id": "15ebcdad",
      "metadata": {
        "id": "15ebcdad"
      },
      "source": [
        "#### 2.2 Проверьте гипотезу для возвращения через семь дней"
      ]
    },
    {
      "cell_type": "code",
      "execution_count": null,
      "id": "1703de87",
      "metadata": {
        "id": "1703de87"
      },
      "outputs": [],
      "source": [
        "### ╰( ͡° ͜ʖ ͡° )つ──☆ сотворите статистическую магию"
      ]
    },
    {
      "cell_type": "markdown",
      "id": "498a3f1d",
      "metadata": {
        "id": "498a3f1d"
      },
      "source": [
        "### Вопрос 2: Отличается ли среднее количество раундов в группах gate_40 и gate_30?"
      ]
    },
    {
      "cell_type": "code",
      "execution_count": null,
      "id": "a2504ebd",
      "metadata": {
        "id": "a2504ebd"
      },
      "outputs": [],
      "source": [
        "### ╰( ͡° ͜ʖ ͡° )つ──☆ сотворите статистическую магию"
      ]
    },
    {
      "cell_type": "markdown",
      "id": "e236e864",
      "metadata": {
        "id": "e236e864"
      },
      "source": [
        "### Вопрос 3: Отличается ли медианное количество раундов в группах gate_40 и gate_30?"
      ]
    },
    {
      "cell_type": "code",
      "execution_count": null,
      "id": "955578c4",
      "metadata": {
        "id": "955578c4"
      },
      "outputs": [],
      "source": [
        "### ╰( ͡° ͜ʖ ͡° )つ──☆ сотворите статистическую магию"
      ]
    },
    {
      "cell_type": "markdown",
      "id": "03f0c2b4",
      "metadata": {
        "id": "03f0c2b4"
      },
      "source": [
        "## Задача 4: Время покемонов (3 балла)"
      ]
    },
    {
      "cell_type": "markdown",
      "id": "413f4923",
      "metadata": {
        "id": "413f4923"
      },
      "source": [
        "В данной задаче вам будет необходимо проанализировать различные характеристики покемонов и сравнить их между собой"
      ]
    },
    {
      "cell_type": "markdown",
      "id": "a253705e",
      "metadata": {
        "id": "a253705e"
      },
      "source": [
        "<p style=\"align: center;\"><img align=center src=\"https://proprikol.ru/wp-content/uploads/2020/11/kartinki-pokemonov-2.jpg\"  width=500></p>"
      ]
    },
    {
      "cell_type": "markdown",
      "id": "1810bfee",
      "metadata": {
        "id": "1810bfee"
      },
      "source": [
        "Покемоны - это маленькие существа, которые сражаются друг с другом на соревнованиях. Все покемоны имеют разные характеристики (сила атаки, защиты и т. д.) и относятся к одному или двум так называемым классам (вода, огонь и т. д.). Профессор Оук является изобретателем Pokedex, портативного устройства, которое хранит информацию обо всех существующих покемонах. Как его ведущий специалист по данным, Вы только что получили от него запрос с просьбой осуществить аналитику данных на всех устройствах Pokedex."
      ]
    },
    {
      "cell_type": "markdown",
      "id": "19045811",
      "metadata": {
        "id": "19045811"
      },
      "source": [
        "### Описание данных\n",
        "\n",
        "Профессор Оук скопировал все содержимое память одного устройства Pokedex, в результате чего получился набор данных, с которым Вы будете работать в этой задаче. В этом файле каждая строка представляет характеристики одного покемона:\n",
        "\n",
        "* pid: Numeric - ID покемона\n",
        "* HP: Numeric - Очки здоровья\n",
        "* Attack: Numeric - Сила обычной атаки\n",
        "* Defense: Numeric - Сила обычной защиты\n",
        "* Sp. Atk: Numeric - Сила специальной атаки\n",
        "* Sp. Def: Numeric - Сила специальной защиты\n",
        "* Speed: Numeric - Скорость движений\n",
        "* Legendary: Boolean - «True», если покемон редкий\n",
        "* Class 1: Categorical - Класс покемона\n",
        "* Class 2: Categorical - Класс покемона"
      ]
    },
    {
      "cell_type": "markdown",
      "id": "216b24ea",
      "metadata": {
        "id": "216b24ea"
      },
      "source": [
        "### Вопрос 1"
      ]
    },
    {
      "cell_type": "markdown",
      "id": "83dadefc",
      "metadata": {
        "id": "83dadefc"
      },
      "source": [
        "Профессор Оук подозревает, что покемоны в классе `grass` имеют более сильную обычную атаку, чем у покемонов в классе `rock`. Проверьте, прав ли он, и убедите его в своем выводе статистически. "
      ]
    },
    {
      "cell_type": "code",
      "execution_count": null,
      "id": "fb6a5007",
      "metadata": {
        "id": "fb6a5007"
      },
      "outputs": [],
      "source": [
        "### ╰( ͡° ͜ʖ ͡° )つ──☆ сотворите статистическую магию"
      ]
    },
    {
      "cell_type": "markdown",
      "id": "efe3805e",
      "metadata": {
        "id": "efe3805e"
      },
      "source": [
        "### Вопрос 2"
      ]
    },
    {
      "cell_type": "markdown",
      "id": "baeb5aeb",
      "metadata": {
        "id": "baeb5aeb"
      },
      "source": [
        "Также профессор Оук очень хочет проверить, правда ли нет значимой разницы между силой обычной атаки и силой обычной защиты у покемонов. Помогите ему и ответьте на вопрос, подтвердив свои выводы с помощью проверки статистических гипотез"
      ]
    },
    {
      "cell_type": "code",
      "execution_count": null,
      "id": "a8ae940e",
      "metadata": {
        "id": "a8ae940e"
      },
      "outputs": [],
      "source": [
        "### ╰( ͡° ͜ʖ ͡° )つ──☆ сотворите статистическую магию"
      ]
    },
    {
      "cell_type": "markdown",
      "id": "55c372da",
      "metadata": {
        "id": "55c372da"
      },
      "source": [
        "### Вопрос 3"
      ]
    },
    {
      "cell_type": "markdown",
      "id": "781cbb94",
      "metadata": {
        "id": "781cbb94"
      },
      "source": [
        "И последний вопрос, который мучает профессора Оука: правда ли, что средняя скорость покемонов превышает 66.6 ? Сформулируйте подходящие гипотезы и помогите профессору Оуку, ответив на вопрос."
      ]
    },
    {
      "cell_type": "code",
      "execution_count": null,
      "id": "aefbfc32",
      "metadata": {
        "id": "aefbfc32"
      },
      "outputs": [],
      "source": [
        "### ╰( ͡° ͜ʖ ͡° )つ──☆ сотворите статистическую магию"
      ]
    }
  ],
  "metadata": {
    "kernelspec": {
      "display_name": "Python 3 (ipykernel)",
      "language": "python",
      "name": "python3"
    },
    "language_info": {
      "codemirror_mode": {
        "name": "ipython",
        "version": 3
      },
      "file_extension": ".py",
      "mimetype": "text/x-python",
      "name": "python",
      "nbconvert_exporter": "python",
      "pygments_lexer": "ipython3",
      "version": "3.9.7"
    },
    "colab": {
      "name": "DZ3_DS.ipynb",
      "provenance": []
    }
  },
  "nbformat": 4,
  "nbformat_minor": 5
}
