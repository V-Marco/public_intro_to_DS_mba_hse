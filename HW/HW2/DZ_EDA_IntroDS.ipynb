{
 "cells": [
  {
   "cell_type": "markdown",
   "id": "665e114d",
   "metadata": {},
   "source": [
    "# DZ 1 Немного EDA для маркетинговых данных"
   ]
  },
  {
   "cell_type": "markdown",
   "id": "95d74125",
   "metadata": {},
   "source": [
    "Вам предложены данные iFood — приложения для доставки еды в Бразилии, представленного более чем в тысяче городов.\n",
    "Поддержание высокой вовлеченности клиентов является важной задачей для компании. Для того, чтобы создавать новые предложения и проводить качественные рекламные кампании, необходимо понимать особенности и потребности целевой аудитории. Для этого были собраны данные о клиентах, использующих приложение. Вам предстоит выявить особенности людей, пользующихся данным приложением и найти интересные закономерности.\n",
    "\n",
    "Почитать про компанию можно, например, на википедии:) https://en.wikipedia.org/wiki/IFood"
   ]
  },
  {
   "cell_type": "markdown",
   "id": "db6e583b",
   "metadata": {},
   "source": [
    "Описание данных:\n",
    "    \n",
    "* AcceptedCmp1 - 1 if customer accepted the offer in the 1st campaign, 0 otherwise\n",
    "* AcceptedCmp2 - 1 if customer accepted the offer in the 2nd campaign, 0 otherwise\n",
    "* AcceptedCmp3 - 1 if customer accepted the offer in the 3rd campaign, 0 otherwise\n",
    "* AcceptedCmp4 - 1 if customer accepted the offer in the 4th campaign, 0 otherwise\n",
    "* AcceptedCmp5 - 1 if customer accepted the offer in the 5th campaign, 0 otherwise\n",
    "* Response (target) - 1 if customer accepted the offer in the last campaign, 0 otherwise\n",
    "* Complain - 1 if customer complained in the last 2 years\n",
    "* DtCustomer - date of customer’s enrolment with the company\n",
    "* Education - customer’s level of education\n",
    "* Marital - customer’s marital status\n",
    "* Kidhome - number of small children in customer’s household\n",
    "* Teenhome - number of teenagers in customer’s household\n",
    "* Income - customer’s yearly household income\n",
    "* MntFishProducts - amount spent on fish products in the last 2 years\n",
    "* MntMeatProducts - amount spent on meat products in the last 2 years\n",
    "* MntFruits - amount spent on fruits products in the last 2 years\n",
    "* MntSweetProducts - amount spent on sweet products in the last 2 years\n",
    "* MntWines - amount spent on wine products in the last 2 years\n",
    "* MntGoldProds - amount spent on gold products in the last 2 years\n",
    "* NumDealsPurchases - number of purchases made with discount\n",
    "* NumCatalogPurchases - number of purchases made using catalogue\n",
    "* NumStorePurchases - number of purchases made directly in stores\n",
    "* NumWebPurchases - number of purchases made through company’s web site\n",
    "* NumWebVisitsMonth - number of visits to company’s web site in the last month\n",
    "* Recency - number of days since the last purchase"
   ]
  },
  {
   "cell_type": "markdown",
   "id": "e269d555",
   "metadata": {},
   "source": [
    "## Немного важной информации:"
   ]
  },
  {
   "cell_type": "markdown",
   "id": "d07cc02d",
   "metadata": {},
   "source": [
    "1. Обязательно гуглите! Использование дополнительных методов не карается, но приветствуется (если вы сможете объяснить принцип их работы) Однако, если вы нашли что-то полезное и хотите скопировать себе - сделав это, добавьте в начале ячейки ссылку на источник. В противном случае это будет считаться плагиатом.\n",
    "\n",
    "2. Плагиат не допускается и строго наказывается. Единственное возможное исключение - код, заимствованный из интернета, с ссылкой на источник."
   ]
  },
  {
   "cell_type": "markdown",
   "id": "4cd87d25",
   "metadata": {},
   "source": [
    "## Задание 1 (1 балл): предобработка данных"
   ]
  },
  {
   "cell_type": "markdown",
   "id": "f0856f15",
   "metadata": {},
   "source": [
    "Откройте предложенные данные."
   ]
  },
  {
   "cell_type": "code",
   "execution_count": 1,
   "id": "b0366881",
   "metadata": {},
   "outputs": [
    {
     "name": "stdout",
     "output_type": "stream",
     "text": [
      "<class 'pandas.core.frame.DataFrame'>\n",
      "RangeIndex: 2240 entries, 0 to 2239\n",
      "Data columns (total 28 columns):\n",
      " #   Column               Non-Null Count  Dtype \n",
      "---  ------               --------------  ----- \n",
      " 0   ID                   2240 non-null   int64 \n",
      " 1   Year_Birth           2240 non-null   int64 \n",
      " 2   Education            2240 non-null   object\n",
      " 3   Marital_Status       2240 non-null   object\n",
      " 4   Income               2216 non-null   object\n",
      " 5   Kidhome              2240 non-null   int64 \n",
      " 6   Teenhome             2240 non-null   int64 \n",
      " 7   Dt_Customer          2240 non-null   object\n",
      " 8   Recency              2240 non-null   int64 \n",
      " 9   MntWines             2240 non-null   int64 \n",
      " 10  MntFruits            2240 non-null   int64 \n",
      " 11  MntMeatProducts      2240 non-null   int64 \n",
      " 12  MntFishProducts      2240 non-null   int64 \n",
      " 13  MntSweetProducts     2240 non-null   int64 \n",
      " 14  MntGoldProds         2240 non-null   int64 \n",
      " 15  NumDealsPurchases    2240 non-null   int64 \n",
      " 16  NumWebPurchases      2240 non-null   int64 \n",
      " 17  NumCatalogPurchases  2240 non-null   int64 \n",
      " 18  NumStorePurchases    2240 non-null   int64 \n",
      " 19  NumWebVisitsMonth    2240 non-null   int64 \n",
      " 20  AcceptedCmp3         2240 non-null   int64 \n",
      " 21  AcceptedCmp4         2240 non-null   int64 \n",
      " 22  AcceptedCmp5         2240 non-null   int64 \n",
      " 23  AcceptedCmp1         2240 non-null   int64 \n",
      " 24  AcceptedCmp2         2240 non-null   int64 \n",
      " 25  Response             2240 non-null   int64 \n",
      " 26  Complain             2240 non-null   int64 \n",
      " 27  Country              2240 non-null   object\n",
      "dtypes: int64(23), object(5)\n",
      "memory usage: 490.1+ KB\n"
     ]
    }
   ],
   "source": [
    "import pandas as pd\n",
    "df = pd.read_csv(\"marketing.csv\")\n",
    "df.info()"
   ]
  },
  {
   "cell_type": "markdown",
   "id": "8743651c",
   "metadata": {},
   "source": [
    "Изучите ваши данные. Какие типы данных здесь представлены? Все ли данные считались в корректном и удобном для работы формате? Если нет, то с какими данными есть проблемы?"
   ]
  },
  {
   "cell_type": "code",
   "execution_count": null,
   "id": "29ff54e1",
   "metadata": {},
   "outputs": [],
   "source": [
    "# Ваш код и комментарий"
   ]
  },
  {
   "cell_type": "markdown",
   "id": "4f42cbb7",
   "metadata": {},
   "source": [
    "Теперь необходимо привести некоторые данные в корректный вид. Преобразуйте признак income так, чтобы значения этого признака были обычными вещественными числами (float)"
   ]
  },
  {
   "cell_type": "code",
   "execution_count": null,
   "id": "1bf60c74",
   "metadata": {},
   "outputs": [],
   "source": [
    "# Ваш супер-код"
   ]
  },
  {
   "cell_type": "markdown",
   "id": "c0b873cb",
   "metadata": {},
   "source": [
    "Кроме того, даты нам было бы удобнее представить в корректном формате ГГГГ-ММ-ДД. Преобразуйте данные с датами в соответствующий вид."
   ]
  },
  {
   "cell_type": "code",
   "execution_count": null,
   "id": "b9a5caa4",
   "metadata": {},
   "outputs": [],
   "source": [
    "# Ваш код"
   ]
  },
  {
   "cell_type": "markdown",
   "id": "c87a6ac0",
   "metadata": {},
   "source": [
    "## Задание 2 (1.5 балла): пропуски и выбросы"
   ]
  },
  {
   "cell_type": "markdown",
   "id": "5198fc92",
   "metadata": {},
   "source": [
    "Исследуйте данные на предмет пропусков и выбросов. Есть ли в данных пропуски? Сколько и в каких признаках? Как вы будете их обрабатывать? Обработайте пропуски, пояснив выбранную вами стратегию обработки.\n",
    "\n",
    "_важно: просто удалить - это не стратегия обработки, придумайте что-то другое_"
   ]
  },
  {
   "cell_type": "code",
   "execution_count": null,
   "id": "b1aa312b",
   "metadata": {},
   "outputs": [],
   "source": [
    "# Ваш код и комментарий"
   ]
  },
  {
   "cell_type": "markdown",
   "id": "88d8a7c7",
   "metadata": {},
   "source": [
    "Исследуйте данные на предмет выбросов и удалите их, если они есть. Если выбросы есть - продемонстрируйте это численно и с помощью визуализаций. Прокомментируйте, как вы ищете выбросы, и почему их стоит удалить."
   ]
  },
  {
   "cell_type": "code",
   "execution_count": null,
   "id": "9180579f",
   "metadata": {},
   "outputs": [],
   "source": [
    "# Ваш код и комментарий"
   ]
  },
  {
   "cell_type": "markdown",
   "id": "303bdeed",
   "metadata": {},
   "source": [
    "## Задание 3 (1 балл): новые признаки"
   ]
  },
  {
   "cell_type": "markdown",
   "id": "bb465340",
   "metadata": {},
   "source": [
    "Подумайте, какие осмысленные признаки можно создать из имеющихся? Придумайте как минимум 2 и добавьте их, содержательно описав, почему вы их добавляете и по какому принципу."
   ]
  },
  {
   "cell_type": "code",
   "execution_count": null,
   "id": "02324d8f",
   "metadata": {},
   "outputs": [],
   "source": [
    "# Ваш код и комментарий"
   ]
  },
  {
   "cell_type": "markdown",
   "id": "7824ea50",
   "metadata": {},
   "source": [
    "## Задание 4 (2.5 балла): время статистики!"
   ]
  },
  {
   "cell_type": "markdown",
   "id": "816ac1bc",
   "metadata": {},
   "source": [
    "Рассчитайте все описательные статистики для категориальных переменных (есть специальный метод, который выводит все доступные статистики разом - это то, что нужно!). Опишите, какие выводы вы можете сделать из полученных данных."
   ]
  },
  {
   "cell_type": "code",
   "execution_count": null,
   "id": "dce51737",
   "metadata": {},
   "outputs": [],
   "source": [
    "# Ваш код и комментарий"
   ]
  },
  {
   "cell_type": "markdown",
   "id": "2f767778",
   "metadata": {},
   "source": [
    "Рассчитайте все описательные статистики для количественных переменных.  (есть специальный метод, который выводит все доступные статистики разом - это то, что нужно!) Опишите, какие выводы вы можете сделать из полученных данных (хотя бы про какие-то 3 признака)."
   ]
  },
  {
   "cell_type": "code",
   "execution_count": null,
   "id": "b11d3686",
   "metadata": {},
   "outputs": [],
   "source": [
    "# Ваш код и комментарий"
   ]
  },
  {
   "cell_type": "markdown",
   "id": "d164add7",
   "metadata": {},
   "source": [
    "Выберите 3 интересующих вас количественных признака и рассчитайте релевантные с вашей точки зрения описательные статистики для этих признаков, сгруппировав данные по семейному положению, образованию, стране. Какие закономерности вы можете отметить? Как их можно проинтерпретировать? "
   ]
  },
  {
   "cell_type": "code",
   "execution_count": null,
   "id": "3970e087",
   "metadata": {},
   "outputs": [],
   "source": [
    "# Ваш код и комментарий"
   ]
  },
  {
   "cell_type": "markdown",
   "id": "c8f30646",
   "metadata": {},
   "source": [
    "## Задание 5 (1 балл): корреляции"
   ]
  },
  {
   "cell_type": "markdown",
   "id": "d5e4be43",
   "metadata": {},
   "source": [
    "Найдите три самых сильных линейных взаимосвязи.Опишите, между какими признаками вы их нашли и содержательно проинтерпретируйте, почему (с вашей точки зрения) эти показатели связаны. \n",
    "\n",
    "_важно: необходимо вывести именно с помощью кода 3 пары самых сильно скоррелированных признака, а не искать их глазами в матрице корреляций_"
   ]
  },
  {
   "cell_type": "code",
   "execution_count": null,
   "id": "fe8acff2",
   "metadata": {},
   "outputs": [],
   "source": [
    "# Ваш код и комментарий"
   ]
  },
  {
   "cell_type": "markdown",
   "id": "6533d54b",
   "metadata": {},
   "source": [
    "## Задание 6 (2 балла) : визуализации"
   ]
  },
  {
   "cell_type": "markdown",
   "id": "0212ace5",
   "metadata": {},
   "source": [
    "Придумайте и постройте как минимум 6 содержательных визуализаций, которые будут иллюстрировать те или иные выводы, которые вы сделали на основе данных. К каждой визуализации должна прилагаться содержательная текстовая интерпретация. Каждая визуализация должна быть грамотно оформлена, с соблюдением всем правил. Необходимо задействовать не менее 4 типов диаграмм. "
   ]
  },
  {
   "cell_type": "code",
   "execution_count": null,
   "id": "d76124e9",
   "metadata": {},
   "outputs": [],
   "source": [
    "# Ваш код и комментарий"
   ]
  },
  {
   "cell_type": "markdown",
   "id": "aa0b89fa",
   "metadata": {},
   "source": [
    "## Задание 7 (1 балл): немного исследований"
   ]
  },
  {
   "cell_type": "markdown",
   "id": "8a1a7c59",
   "metadata": {},
   "source": [
    "Попробуйте найти в данных какую-то классную интересную особенность. Может быть, рыбу едят только неженатые? Или самый большой заработок и потребление фруктов у людей без образования? Приведите все расчеты, и визуализации для обнаруженного факта. Он должен быть правда интересным и удивлять! Попробуйте описать, почему (как вам кажется) так получилось."
   ]
  },
  {
   "cell_type": "code",
   "execution_count": null,
   "id": "4d84d27c",
   "metadata": {},
   "outputs": [],
   "source": [
    "# Ваш код и комментарий"
   ]
  }
 ],
 "metadata": {
  "kernelspec": {
   "display_name": "Python 3 (ipykernel)",
   "language": "python",
   "name": "python3"
  },
  "language_info": {
   "codemirror_mode": {
    "name": "ipython",
    "version": 3
   },
   "file_extension": ".py",
   "mimetype": "text/x-python",
   "name": "python",
   "nbconvert_exporter": "python",
   "pygments_lexer": "ipython3",
   "version": "3.9.7"
  }
 },
 "nbformat": 4,
 "nbformat_minor": 5
}
