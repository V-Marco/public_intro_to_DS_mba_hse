{
 "cells": [
  {
   "cell_type": "markdown",
   "metadata": {},
   "source": [
    "\n",
    "# <center> Семинар 11: линейная регрессия </center>\n",
    "\n",
    "\n",
    "\n",
    "Сегодня мы будем работать с датасетом __bikes_rent.csv__, в котором по дням записаны календарная информация и погодные условия, характеризующие автоматизированные пункты проката велосипедов, а также число прокатов в этот день. Последнее мы будем предсказывать; таким образом, мы будем решать задачу регрессии."
   ]
  },
  {
   "cell_type": "code",
   "execution_count": 1,
   "metadata": {},
   "outputs": [],
   "source": [
    "# добавляем библиотеки\n",
    "import numpy as np\n",
    "import pandas as pd\n",
    "import matplotlib\n",
    "import matplotlib.pyplot as plt\n",
    "import seaborn as sns\n",
    "plt.style.use('ggplot')  # правильный (наиболее красивый) стиль у графиков\n",
    "%matplotlib inline"
   ]
  },
  {
   "cell_type": "markdown",
   "metadata": {},
   "source": [
    "Подгрузим наши данные и посмотрим на них:"
   ]
  },
  {
   "cell_type": "code",
   "execution_count": 2,
   "metadata": {
    "scrolled": true
   },
   "outputs": [
    {
     "data": {
      "text/html": [
       "<div>\n",
       "<style scoped>\n",
       "    .dataframe tbody tr th:only-of-type {\n",
       "        vertical-align: middle;\n",
       "    }\n",
       "\n",
       "    .dataframe tbody tr th {\n",
       "        vertical-align: top;\n",
       "    }\n",
       "\n",
       "    .dataframe thead th {\n",
       "        text-align: right;\n",
       "    }\n",
       "</style>\n",
       "<table border=\"1\" class=\"dataframe\">\n",
       "  <thead>\n",
       "    <tr style=\"text-align: right;\">\n",
       "      <th></th>\n",
       "      <th>season</th>\n",
       "      <th>yr</th>\n",
       "      <th>mnth</th>\n",
       "      <th>holiday</th>\n",
       "      <th>weekday</th>\n",
       "      <th>workingday</th>\n",
       "      <th>weathersit</th>\n",
       "      <th>temp</th>\n",
       "      <th>atemp</th>\n",
       "      <th>hum</th>\n",
       "      <th>windspeed(mph)</th>\n",
       "      <th>windspeed(ms)</th>\n",
       "      <th>cnt</th>\n",
       "    </tr>\n",
       "  </thead>\n",
       "  <tbody>\n",
       "    <tr>\n",
       "      <th>0</th>\n",
       "      <td>1</td>\n",
       "      <td>0</td>\n",
       "      <td>1</td>\n",
       "      <td>0</td>\n",
       "      <td>6</td>\n",
       "      <td>0</td>\n",
       "      <td>2</td>\n",
       "      <td>14.110847</td>\n",
       "      <td>18.18125</td>\n",
       "      <td>80.5833</td>\n",
       "      <td>10.749882</td>\n",
       "      <td>4.805490</td>\n",
       "      <td>985</td>\n",
       "    </tr>\n",
       "    <tr>\n",
       "      <th>1</th>\n",
       "      <td>1</td>\n",
       "      <td>0</td>\n",
       "      <td>1</td>\n",
       "      <td>0</td>\n",
       "      <td>0</td>\n",
       "      <td>0</td>\n",
       "      <td>2</td>\n",
       "      <td>14.902598</td>\n",
       "      <td>17.68695</td>\n",
       "      <td>69.6087</td>\n",
       "      <td>16.652113</td>\n",
       "      <td>7.443949</td>\n",
       "      <td>801</td>\n",
       "    </tr>\n",
       "    <tr>\n",
       "      <th>2</th>\n",
       "      <td>1</td>\n",
       "      <td>0</td>\n",
       "      <td>1</td>\n",
       "      <td>0</td>\n",
       "      <td>1</td>\n",
       "      <td>1</td>\n",
       "      <td>1</td>\n",
       "      <td>8.050924</td>\n",
       "      <td>9.47025</td>\n",
       "      <td>43.7273</td>\n",
       "      <td>16.636703</td>\n",
       "      <td>7.437060</td>\n",
       "      <td>1349</td>\n",
       "    </tr>\n",
       "    <tr>\n",
       "      <th>3</th>\n",
       "      <td>1</td>\n",
       "      <td>0</td>\n",
       "      <td>1</td>\n",
       "      <td>0</td>\n",
       "      <td>2</td>\n",
       "      <td>1</td>\n",
       "      <td>1</td>\n",
       "      <td>8.200000</td>\n",
       "      <td>10.60610</td>\n",
       "      <td>59.0435</td>\n",
       "      <td>10.739832</td>\n",
       "      <td>4.800998</td>\n",
       "      <td>1562</td>\n",
       "    </tr>\n",
       "    <tr>\n",
       "      <th>4</th>\n",
       "      <td>1</td>\n",
       "      <td>0</td>\n",
       "      <td>1</td>\n",
       "      <td>0</td>\n",
       "      <td>3</td>\n",
       "      <td>1</td>\n",
       "      <td>1</td>\n",
       "      <td>9.305237</td>\n",
       "      <td>11.46350</td>\n",
       "      <td>43.6957</td>\n",
       "      <td>12.522300</td>\n",
       "      <td>5.597810</td>\n",
       "      <td>1600</td>\n",
       "    </tr>\n",
       "  </tbody>\n",
       "</table>\n",
       "</div>"
      ],
      "text/plain": [
       "   season  yr  mnth  holiday  weekday  workingday  weathersit       temp  \\\n",
       "0       1   0     1        0        6           0           2  14.110847   \n",
       "1       1   0     1        0        0           0           2  14.902598   \n",
       "2       1   0     1        0        1           1           1   8.050924   \n",
       "3       1   0     1        0        2           1           1   8.200000   \n",
       "4       1   0     1        0        3           1           1   9.305237   \n",
       "\n",
       "      atemp      hum  windspeed(mph)  windspeed(ms)   cnt  \n",
       "0  18.18125  80.5833       10.749882       4.805490   985  \n",
       "1  17.68695  69.6087       16.652113       7.443949   801  \n",
       "2   9.47025  43.7273       16.636703       7.437060  1349  \n",
       "3  10.60610  59.0435       10.739832       4.800998  1562  \n",
       "4  11.46350  43.6957       12.522300       5.597810  1600  "
      ]
     },
     "execution_count": 2,
     "metadata": {},
     "output_type": "execute_result"
    }
   ],
   "source": [
    "df = pd.read_csv('bikes_rent.csv')\n",
    "df.head( )"
   ]
  },
  {
   "cell_type": "markdown",
   "metadata": {},
   "source": [
    "__Описание пееменных:__\n",
    "\n",
    "* `season`  1 - весна, 2 - лето, 3 - осень, 4 - зима\n",
    "* `yr`  0 - 2011, 1 - 2012\n",
    "* `mnth`  от 1 до 12\n",
    "* `holiday`  0 - нет праздника, 1 - есть праздник\n",
    "* `weekday`  от 0 до 6\n",
    "* `workingday`  0 - нерабочий день, 1 - рабочий день\n",
    "* `weathersit`  оценка благоприятности погоды от 1 (чистый, ясный день) до 4 (ливень, туман)\n",
    "* `temp`  температура в Цельсиях\n",
    "* `atemp`  температура по ощущениям в Цельсиях\n",
    "* `hum`  влажность\n",
    "* `windspeed(mph)`  скорость ветра в милях в час\n",
    "* `windspeed(ms)`  скорость ветра в метрах в секунду\n",
    "* `cnt`  количество арендованных велосипедов (это целевой признак, его мы будем предсказывать)"
   ]
  },
  {
   "cell_type": "markdown",
   "metadata": {},
   "source": [
    "##  Изучаем данные"
   ]
  },
  {
   "cell_type": "markdown",
   "metadata": {},
   "source": [
    "Давайте посмотрим, есть ли пропущенные значения:"
   ]
  },
  {
   "cell_type": "code",
   "execution_count": 3,
   "metadata": {},
   "outputs": [
    {
     "data": {
      "text/plain": [
       "season            0\n",
       "yr                0\n",
       "mnth              0\n",
       "holiday           0\n",
       "weekday           0\n",
       "workingday        0\n",
       "weathersit        0\n",
       "temp              0\n",
       "atemp             0\n",
       "hum               0\n",
       "windspeed(mph)    0\n",
       "windspeed(ms)     0\n",
       "cnt               0\n",
       "dtype: int64"
      ]
     },
     "execution_count": 3,
     "metadata": {},
     "output_type": "execute_result"
    }
   ],
   "source": [
    "df.isnull().sum()"
   ]
  },
  {
   "cell_type": "markdown",
   "metadata": {},
   "source": [
    "Можно видеть, что пропусков нет. Нам повезло!"
   ]
  },
  {
   "cell_type": "markdown",
   "metadata": {},
   "source": [
    "Для удобства давайте разделим категориальные и числовые переменные (так как для них будет разная предобработка и разные методы визуализации, а также отделим целевую переменную:"
   ]
  },
  {
   "cell_type": "code",
   "execution_count": 4,
   "metadata": {},
   "outputs": [],
   "source": [
    "# категориальные переменные \n",
    "var_cat = ['season', 'yr', 'mnth', 'holiday', 'weekday', 'workingday', 'weathersit']\n",
    "\n",
    "# непрерывные переменные\n",
    "var_real = ['temp', 'atemp', 'hum', 'windspeed(mph)', 'windspeed(ms)']\n",
    "\n",
    "target = 'cnt'"
   ]
  },
  {
   "cell_type": "markdown",
   "metadata": {},
   "source": [
    "Построим гистограмму для целевого признака. Это необходимо для того, чтобы оценить, необходимо ли какое-то преобразование (например, логарифмическое)"
   ]
  },
  {
   "cell_type": "code",
   "execution_count": 5,
   "metadata": {},
   "outputs": [
    {
     "data": {
      "image/png": "[encoded data removed]",
      "text/plain": [
       "<Figure size 432x288 with 1 Axes>"
      ]
     },
     "metadata": {
      "needs_background": "light"
     },
     "output_type": "display_data"
    }
   ],
   "source": [
    "df[target].hist();"
   ]
  },
  {
   "cell_type": "markdown",
   "metadata": {},
   "source": [
    "Теперь давайте изучим, какие зависимости целевой переменной от предикторов мы можем наблюдать. Визуализируем зависимости для удобства:"
   ]
  },
  {
   "cell_type": "code",
   "execution_count": 6,
   "metadata": {},
   "outputs": [
    {
     "data": {
      "image/png": "[encoded data removed]",
      "text/plain": [
       "<Figure size 1080x720 with 12 Axes>"
      ]
     },
     "metadata": {
      "needs_background": "light"
     },
     "output_type": "display_data"
    }
   ],
   "source": [
    "fig, axes = plt.subplots(nrows=3, ncols=4, figsize=(15, 10))\n",
    "\n",
    "for idx, feature in enumerate(df.columns[:-1]):\n",
    "    df.plot(feature, \"cnt\", subplots=True, kind=\"scatter\", ax=axes[idx // 4, idx % 4])"
   ]
  },
  {
   "cell_type": "markdown",
   "metadata": {},
   "source": [
    "## Обработка количественных признаков\n",
    "\n",
    "Давайте посмотрим, есть ли выбросы среди числовых переменных"
   ]
  },
  {
   "cell_type": "code",
   "execution_count": 7,
   "metadata": {},
   "outputs": [
    {
     "data": {
      "image/png": "[encoded data removed]",
      "text/plain": [
       "<Figure size 1440x864 with 1 Axes>"
      ]
     },
     "metadata": {
      "needs_background": "light"
     },
     "output_type": "display_data"
    }
   ],
   "source": [
    "df[var_real].boxplot(figsize=(20, 12));"
   ]
  },
  {
   "cell_type": "markdown",
   "metadata": {},
   "source": [
    "Можно видеть выбросы в признаках, отражающих уровень влажности и скорость ветра. "
   ]
  },
  {
   "cell_type": "markdown",
   "metadata": {},
   "source": [
    "## Исследование на наличие мультиколлинеарности"
   ]
  },
  {
   "cell_type": "markdown",
   "metadata": {},
   "source": [
    "Мультиколлинеарность — сильная корреляционная связь между признаками, отбираемыми для обучения. \n",
    "Сильно скоррелированные признаки сообщают для модели одну и ту же информацию. Поэтому для обучения не нужно использовать их все. Часть из них необходимо удалить из набора данных. "
   ]
  },
  {
   "cell_type": "markdown",
   "metadata": {},
   "source": [
    "Для того, чтобы изучить, наблюдается ли в данных мультиколлинеарность, необходимо построить матрицу корреляций. Строить мы ее будем, разумеется, только для числовых признаков."
   ]
  },
  {
   "cell_type": "code",
   "execution_count": 8,
   "metadata": {},
   "outputs": [
    {
     "data": {
      "text/html": [
       "<div>\n",
       "<style scoped>\n",
       "    .dataframe tbody tr th:only-of-type {\n",
       "        vertical-align: middle;\n",
       "    }\n",
       "\n",
       "    .dataframe tbody tr th {\n",
       "        vertical-align: top;\n",
       "    }\n",
       "\n",
       "    .dataframe thead th {\n",
       "        text-align: right;\n",
       "    }\n",
       "</style>\n",
       "<table border=\"1\" class=\"dataframe\">\n",
       "  <thead>\n",
       "    <tr style=\"text-align: right;\">\n",
       "      <th></th>\n",
       "      <th>temp</th>\n",
       "      <th>atemp</th>\n",
       "      <th>hum</th>\n",
       "      <th>windspeed(mph)</th>\n",
       "      <th>windspeed(ms)</th>\n",
       "      <th>cnt</th>\n",
       "    </tr>\n",
       "  </thead>\n",
       "  <tbody>\n",
       "    <tr>\n",
       "      <th>temp</th>\n",
       "      <td>1.000000</td>\n",
       "      <td>0.991702</td>\n",
       "      <td>0.126963</td>\n",
       "      <td>-0.157944</td>\n",
       "      <td>-0.157944</td>\n",
       "      <td>0.627494</td>\n",
       "    </tr>\n",
       "    <tr>\n",
       "      <th>atemp</th>\n",
       "      <td>0.991702</td>\n",
       "      <td>1.000000</td>\n",
       "      <td>0.139988</td>\n",
       "      <td>-0.183643</td>\n",
       "      <td>-0.183643</td>\n",
       "      <td>0.631066</td>\n",
       "    </tr>\n",
       "    <tr>\n",
       "      <th>hum</th>\n",
       "      <td>0.126963</td>\n",
       "      <td>0.139988</td>\n",
       "      <td>1.000000</td>\n",
       "      <td>-0.248489</td>\n",
       "      <td>-0.248489</td>\n",
       "      <td>-0.100659</td>\n",
       "    </tr>\n",
       "    <tr>\n",
       "      <th>windspeed(mph)</th>\n",
       "      <td>-0.157944</td>\n",
       "      <td>-0.183643</td>\n",
       "      <td>-0.248489</td>\n",
       "      <td>1.000000</td>\n",
       "      <td>1.000000</td>\n",
       "      <td>-0.234545</td>\n",
       "    </tr>\n",
       "    <tr>\n",
       "      <th>windspeed(ms)</th>\n",
       "      <td>-0.157944</td>\n",
       "      <td>-0.183643</td>\n",
       "      <td>-0.248489</td>\n",
       "      <td>1.000000</td>\n",
       "      <td>1.000000</td>\n",
       "      <td>-0.234545</td>\n",
       "    </tr>\n",
       "    <tr>\n",
       "      <th>cnt</th>\n",
       "      <td>0.627494</td>\n",
       "      <td>0.631066</td>\n",
       "      <td>-0.100659</td>\n",
       "      <td>-0.234545</td>\n",
       "      <td>-0.234545</td>\n",
       "      <td>1.000000</td>\n",
       "    </tr>\n",
       "  </tbody>\n",
       "</table>\n",
       "</div>"
      ],
      "text/plain": [
       "                    temp     atemp       hum  windspeed(mph)  windspeed(ms)  \\\n",
       "temp            1.000000  0.991702  0.126963       -0.157944      -0.157944   \n",
       "atemp           0.991702  1.000000  0.139988       -0.183643      -0.183643   \n",
       "hum             0.126963  0.139988  1.000000       -0.248489      -0.248489   \n",
       "windspeed(mph) -0.157944 -0.183643 -0.248489        1.000000       1.000000   \n",
       "windspeed(ms)  -0.157944 -0.183643 -0.248489        1.000000       1.000000   \n",
       "cnt             0.627494  0.631066 -0.100659       -0.234545      -0.234545   \n",
       "\n",
       "                     cnt  \n",
       "temp            0.627494  \n",
       "atemp           0.631066  \n",
       "hum            -0.100659  \n",
       "windspeed(mph) -0.234545  \n",
       "windspeed(ms)  -0.234545  \n",
       "cnt             1.000000  "
      ]
     },
     "execution_count": 8,
     "metadata": {},
     "output_type": "execute_result"
    }
   ],
   "source": [
    "df[var_real+[target]].corr()"
   ]
  },
  {
   "cell_type": "markdown",
   "metadata": {},
   "source": [
    "Можно также представить результаты в визуальном виде:"
   ]
  },
  {
   "cell_type": "code",
   "execution_count": 9,
   "metadata": {},
   "outputs": [
    {
     "data": {
      "image/png": "[encoded data removed]",
      "text/plain": [
       "<Figure size 432x288 with 2 Axes>"
      ]
     },
     "metadata": {
      "needs_background": "light"
     },
     "output_type": "display_data"
    }
   ],
   "source": [
    "sns.heatmap(df[var_real+[target]].corr(), cmap='coolwarm', annot = True);"
   ]
  },
  {
   "cell_type": "markdown",
   "metadata": {},
   "source": [
    "Из набора нескольких коррелирующих признаков следует оставлять один. Поэтому оставим среди числовых признаков только те, которые слабо коррелируют между собой. То есть, надо удалить один из признаков temp и atemp. Удалим реальную температуру и оставим atemp."
   ]
  },
  {
   "cell_type": "code",
   "execution_count": 10,
   "metadata": {},
   "outputs": [],
   "source": [
    "df.drop('temp', axis=1, inplace=True)"
   ]
  },
  {
   "cell_type": "markdown",
   "metadata": {},
   "source": [
    "## Обработка категориальных признаков "
   ]
  },
  {
   "cell_type": "markdown",
   "metadata": {},
   "source": [
    "Посмотрим на распределения значений для категориальных признаков"
   ]
  },
  {
   "cell_type": "code",
   "execution_count": 11,
   "metadata": {
    "scrolled": true
   },
   "outputs": [
    {
     "data": {
      "image/png": "[encoded data removed]",
      "text/plain": [
       "<Figure size 1080x576 with 8 Axes>"
      ]
     },
     "metadata": {
      "needs_background": "light"
     },
     "output_type": "display_data"
    }
   ],
   "source": [
    "fig, axes = plt.subplots(2, 4, figsize=(15, 8), sharey=True)\n",
    "\n",
    "for i in range(len(var_cat)):\n",
    "    sns.countplot(x=var_cat[i], data=df, ax=axes[i // 4, i % 4])"
   ]
  },
  {
   "cell_type": "markdown",
   "metadata": {},
   "source": [
    "Как эти признаки мешают просто взять и запустить LinearRegression? Дело в том, что некоторых из этих признаков содержат числа, которые не несут содержательного смысла (например, день недели). Значит, их нужно перекодировать."
   ]
  },
  {
   "cell_type": "markdown",
   "metadata": {},
   "source": [
    "Для этого нам понадобятся дамми-переменные.\n",
    "Как ввести дамми-переменную в модель?\n",
    "Как правило, это переменная, которая принимает только два\n",
    "возможных значения: 0 или 1 (дихотомическая, бинарная).\n",
    "При этом 0 означает отсутствие признака у данного\n",
    "объекта; 1 – наличие признака. "
   ]
  },
  {
   "cell_type": "markdown",
   "metadata": {},
   "source": [
    "Например, для дня недели это будет выглядеть следующим образом:"
   ]
  },
  {
   "cell_type": "markdown",
   "metadata": {},
   "source": [
    "<a href=\"https://imgbb.com/\"><img src=\"https://i.ibb.co/pWv0VcP/sadxa.jpg\" alt=\"sadxa\" border=\"0\"></a>"
   ]
  },
  {
   "cell_type": "markdown",
   "metadata": {},
   "source": [
    "Давайте сделаем это OHE-кодирование. Сколько свежих OHE-признаков у нас появилось? "
   ]
  },
  {
   "cell_type": "code",
   "execution_count": 12,
   "metadata": {},
   "outputs": [
    {
     "name": "stdout",
     "output_type": "stream",
     "text": [
      "<class 'pandas.core.frame.DataFrame'>\n",
      "RangeIndex: 731 entries, 0 to 730\n",
      "Data columns (total 12 columns):\n",
      " #   Column          Non-Null Count  Dtype  \n",
      "---  ------          --------------  -----  \n",
      " 0   season          731 non-null    object \n",
      " 1   yr              731 non-null    object \n",
      " 2   mnth            731 non-null    object \n",
      " 3   holiday         731 non-null    object \n",
      " 4   weekday         731 non-null    object \n",
      " 5   workingday      731 non-null    object \n",
      " 6   weathersit      731 non-null    object \n",
      " 7   atemp           731 non-null    float64\n",
      " 8   hum             731 non-null    float64\n",
      " 9   windspeed(mph)  731 non-null    float64\n",
      " 10  windspeed(ms)   731 non-null    float64\n",
      " 11  cnt             731 non-null    int64  \n",
      "dtypes: float64(4), int64(1), object(7)\n",
      "memory usage: 68.7+ KB\n"
     ]
    }
   ],
   "source": [
    "df[var_cat] = df[var_cat].astype(str)  # чтобы все категории стали object\n",
    "df.info()"
   ]
  },
  {
   "cell_type": "code",
   "execution_count": 13,
   "metadata": {},
   "outputs": [
    {
     "data": {
      "text/html": [
       "<div>\n",
       "<style scoped>\n",
       "    .dataframe tbody tr th:only-of-type {\n",
       "        vertical-align: middle;\n",
       "    }\n",
       "\n",
       "    .dataframe tbody tr th {\n",
       "        vertical-align: top;\n",
       "    }\n",
       "\n",
       "    .dataframe thead th {\n",
       "        text-align: right;\n",
       "    }\n",
       "</style>\n",
       "<table border=\"1\" class=\"dataframe\">\n",
       "  <thead>\n",
       "    <tr style=\"text-align: right;\">\n",
       "      <th></th>\n",
       "      <th>atemp</th>\n",
       "      <th>hum</th>\n",
       "      <th>windspeed(mph)</th>\n",
       "      <th>windspeed(ms)</th>\n",
       "      <th>cnt</th>\n",
       "      <th>season_2</th>\n",
       "      <th>season_3</th>\n",
       "      <th>season_4</th>\n",
       "      <th>yr_1</th>\n",
       "      <th>mnth_10</th>\n",
       "      <th>...</th>\n",
       "      <th>holiday_1</th>\n",
       "      <th>weekday_1</th>\n",
       "      <th>weekday_2</th>\n",
       "      <th>weekday_3</th>\n",
       "      <th>weekday_4</th>\n",
       "      <th>weekday_5</th>\n",
       "      <th>weekday_6</th>\n",
       "      <th>workingday_1</th>\n",
       "      <th>weathersit_2</th>\n",
       "      <th>weathersit_3</th>\n",
       "    </tr>\n",
       "  </thead>\n",
       "  <tbody>\n",
       "    <tr>\n",
       "      <th>0</th>\n",
       "      <td>18.18125</td>\n",
       "      <td>80.5833</td>\n",
       "      <td>10.749882</td>\n",
       "      <td>4.805490</td>\n",
       "      <td>985</td>\n",
       "      <td>0</td>\n",
       "      <td>0</td>\n",
       "      <td>0</td>\n",
       "      <td>0</td>\n",
       "      <td>0</td>\n",
       "      <td>...</td>\n",
       "      <td>0</td>\n",
       "      <td>0</td>\n",
       "      <td>0</td>\n",
       "      <td>0</td>\n",
       "      <td>0</td>\n",
       "      <td>0</td>\n",
       "      <td>1</td>\n",
       "      <td>0</td>\n",
       "      <td>1</td>\n",
       "      <td>0</td>\n",
       "    </tr>\n",
       "    <tr>\n",
       "      <th>1</th>\n",
       "      <td>17.68695</td>\n",
       "      <td>69.6087</td>\n",
       "      <td>16.652113</td>\n",
       "      <td>7.443949</td>\n",
       "      <td>801</td>\n",
       "      <td>0</td>\n",
       "      <td>0</td>\n",
       "      <td>0</td>\n",
       "      <td>0</td>\n",
       "      <td>0</td>\n",
       "      <td>...</td>\n",
       "      <td>0</td>\n",
       "      <td>0</td>\n",
       "      <td>0</td>\n",
       "      <td>0</td>\n",
       "      <td>0</td>\n",
       "      <td>0</td>\n",
       "      <td>0</td>\n",
       "      <td>0</td>\n",
       "      <td>1</td>\n",
       "      <td>0</td>\n",
       "    </tr>\n",
       "    <tr>\n",
       "      <th>2</th>\n",
       "      <td>9.47025</td>\n",
       "      <td>43.7273</td>\n",
       "      <td>16.636703</td>\n",
       "      <td>7.437060</td>\n",
       "      <td>1349</td>\n",
       "      <td>0</td>\n",
       "      <td>0</td>\n",
       "      <td>0</td>\n",
       "      <td>0</td>\n",
       "      <td>0</td>\n",
       "      <td>...</td>\n",
       "      <td>0</td>\n",
       "      <td>1</td>\n",
       "      <td>0</td>\n",
       "      <td>0</td>\n",
       "      <td>0</td>\n",
       "      <td>0</td>\n",
       "      <td>0</td>\n",
       "      <td>1</td>\n",
       "      <td>0</td>\n",
       "      <td>0</td>\n",
       "    </tr>\n",
       "    <tr>\n",
       "      <th>3</th>\n",
       "      <td>10.60610</td>\n",
       "      <td>59.0435</td>\n",
       "      <td>10.739832</td>\n",
       "      <td>4.800998</td>\n",
       "      <td>1562</td>\n",
       "      <td>0</td>\n",
       "      <td>0</td>\n",
       "      <td>0</td>\n",
       "      <td>0</td>\n",
       "      <td>0</td>\n",
       "      <td>...</td>\n",
       "      <td>0</td>\n",
       "      <td>0</td>\n",
       "      <td>1</td>\n",
       "      <td>0</td>\n",
       "      <td>0</td>\n",
       "      <td>0</td>\n",
       "      <td>0</td>\n",
       "      <td>1</td>\n",
       "      <td>0</td>\n",
       "      <td>0</td>\n",
       "    </tr>\n",
       "    <tr>\n",
       "      <th>4</th>\n",
       "      <td>11.46350</td>\n",
       "      <td>43.6957</td>\n",
       "      <td>12.522300</td>\n",
       "      <td>5.597810</td>\n",
       "      <td>1600</td>\n",
       "      <td>0</td>\n",
       "      <td>0</td>\n",
       "      <td>0</td>\n",
       "      <td>0</td>\n",
       "      <td>0</td>\n",
       "      <td>...</td>\n",
       "      <td>0</td>\n",
       "      <td>0</td>\n",
       "      <td>0</td>\n",
       "      <td>1</td>\n",
       "      <td>0</td>\n",
       "      <td>0</td>\n",
       "      <td>0</td>\n",
       "      <td>1</td>\n",
       "      <td>0</td>\n",
       "      <td>0</td>\n",
       "    </tr>\n",
       "  </tbody>\n",
       "</table>\n",
       "<p>5 rows × 30 columns</p>\n",
       "</div>"
      ],
      "text/plain": [
       "      atemp      hum  windspeed(mph)  windspeed(ms)   cnt  season_2  season_3  \\\n",
       "0  18.18125  80.5833       10.749882       4.805490   985         0         0   \n",
       "1  17.68695  69.6087       16.652113       7.443949   801         0         0   \n",
       "2   9.47025  43.7273       16.636703       7.437060  1349         0         0   \n",
       "3  10.60610  59.0435       10.739832       4.800998  1562         0         0   \n",
       "4  11.46350  43.6957       12.522300       5.597810  1600         0         0   \n",
       "\n",
       "   season_4  yr_1  mnth_10  ...  holiday_1  weekday_1  weekday_2  weekday_3  \\\n",
       "0         0     0        0  ...          0          0          0          0   \n",
       "1         0     0        0  ...          0          0          0          0   \n",
       "2         0     0        0  ...          0          1          0          0   \n",
       "3         0     0        0  ...          0          0          1          0   \n",
       "4         0     0        0  ...          0          0          0          1   \n",
       "\n",
       "   weekday_4  weekday_5  weekday_6  workingday_1  weathersit_2  weathersit_3  \n",
       "0          0          0          1             0             1             0  \n",
       "1          0          0          0             0             1             0  \n",
       "2          0          0          0             1             0             0  \n",
       "3          0          0          0             1             0             0  \n",
       "4          0          0          0             1             0             0  \n",
       "\n",
       "[5 rows x 30 columns]"
      ]
     },
     "execution_count": 13,
     "metadata": {},
     "output_type": "execute_result"
    }
   ],
   "source": [
    "dff = pd.get_dummies(df, drop_first=True, dummy_na=False)\n",
    "dff.head()"
   ]
  },
  {
   "cell_type": "code",
   "execution_count": 14,
   "metadata": {},
   "outputs": [
    {
     "data": {
      "text/plain": [
       "(731, 30)"
      ]
     },
     "execution_count": 14,
     "metadata": {},
     "output_type": "execute_result"
    }
   ],
   "source": [
    "dff.shape"
   ]
  },
  {
   "cell_type": "markdown",
   "metadata": {},
   "source": [
    "## Создание новых признаков \n",
    "\n",
    "__[1]__   Некоторые из наших переменных могут вносить в спрос на велосипеды нелинейный вклад. Например, температура. \n",
    "\n",
    "Сначала, когда температура возрастает, люди выходят кататься охотнее, а потом, когда становится жарко, спрос резко падает. Так возникает параболическая зависимость. \n",
    "\n",
    "Давайте создадим для каждой действительной переменной из данных дополнительную переменную: её квадрат. "
   ]
  },
  {
   "cell_type": "code",
   "execution_count": 15,
   "metadata": {},
   "outputs": [],
   "source": [
    "var_real.remove('temp')"
   ]
  },
  {
   "cell_type": "code",
   "execution_count": 16,
   "metadata": {},
   "outputs": [],
   "source": [
    "for var in var_real:\n",
    "    dff[var + '_sq'] = dff[var]**2"
   ]
  },
  {
   "cell_type": "markdown",
   "metadata": {},
   "source": [
    "Еще давайте создадим бинарный признак, который будет отвечать за очень хорошую по всем параметрам погоду."
   ]
  },
  {
   "cell_type": "code",
   "execution_count": 17,
   "metadata": {},
   "outputs": [],
   "source": [
    "# Будем считать, что температура между 15 и 25 - хорошо \n",
    "# Скорость ветра от 4 до 8 - не слишком сильный, но и не духота\n",
    "# weathersit = 1, то есть день ясный и чистый"
   ]
  },
  {
   "cell_type": "code",
   "execution_count": 18,
   "metadata": {},
   "outputs": [
    {
     "data": {
      "text/plain": [
       "78"
      ]
     },
     "execution_count": 18,
     "metadata": {},
     "output_type": "execute_result"
    }
   ],
   "source": [
    "super_nice_day = (15 <= dff['atemp']) & (dff['atemp'] <= 25)& \\\n",
    "    (4 <= dff['windspeed(ms)'])& (dff['windspeed(ms)'] <= 8)& \\\n",
    "    (dff['weathersit_2'] == 0)&(dff['weathersit_3'] == 0)\n",
    "\n",
    "sum(super_nice_day) # сколько таких дней "
   ]
  },
  {
   "cell_type": "code",
   "execution_count": 19,
   "metadata": {},
   "outputs": [
    {
     "data": {
      "text/plain": [
       "731"
      ]
     },
     "execution_count": 19,
     "metadata": {},
     "output_type": "execute_result"
    }
   ],
   "source": [
    "dff.shape[0] # всего дней"
   ]
  },
  {
   "cell_type": "code",
   "execution_count": 20,
   "metadata": {},
   "outputs": [],
   "source": [
    "dff['super_nice_day'] = super_nice_day"
   ]
  },
  {
   "cell_type": "markdown",
   "metadata": {},
   "source": [
    "Теперь определим целевую переменую:"
   ]
  },
  {
   "cell_type": "code",
   "execution_count": 21,
   "metadata": {},
   "outputs": [],
   "source": [
    "y = dff['cnt'] # то, что прогнозируем "
   ]
  },
  {
   "cell_type": "markdown",
   "metadata": {},
   "source": [
    "А в качестве предикторов (признаков) возьмем все, кроме целевой переменной:"
   ]
  },
  {
   "cell_type": "code",
   "execution_count": 22,
   "metadata": {},
   "outputs": [],
   "source": [
    "X = dff.drop('cnt', axis=1)"
   ]
  },
  {
   "cell_type": "markdown",
   "metadata": {},
   "source": [
    "Посмотрим, какие признаки у нас будут отвечать за предсказание аренды:"
   ]
  },
  {
   "cell_type": "code",
   "execution_count": 23,
   "metadata": {},
   "outputs": [
    {
     "name": "stdout",
     "output_type": "stream",
     "text": [
      "<class 'pandas.core.frame.DataFrame'>\n",
      "RangeIndex: 731 entries, 0 to 730\n",
      "Data columns (total 34 columns):\n",
      " #   Column             Non-Null Count  Dtype  \n",
      "---  ------             --------------  -----  \n",
      " 0   atemp              731 non-null    float64\n",
      " 1   hum                731 non-null    float64\n",
      " 2   windspeed(mph)     731 non-null    float64\n",
      " 3   windspeed(ms)      731 non-null    float64\n",
      " 4   season_2           731 non-null    uint8  \n",
      " 5   season_3           731 non-null    uint8  \n",
      " 6   season_4           731 non-null    uint8  \n",
      " 7   yr_1               731 non-null    uint8  \n",
      " 8   mnth_10            731 non-null    uint8  \n",
      " 9   mnth_11            731 non-null    uint8  \n",
      " 10  mnth_12            731 non-null    uint8  \n",
      " 11  mnth_2             731 non-null    uint8  \n",
      " 12  mnth_3             731 non-null    uint8  \n",
      " 13  mnth_4             731 non-null    uint8  \n",
      " 14  mnth_5             731 non-null    uint8  \n",
      " 15  mnth_6             731 non-null    uint8  \n",
      " 16  mnth_7             731 non-null    uint8  \n",
      " 17  mnth_8             731 non-null    uint8  \n",
      " 18  mnth_9             731 non-null    uint8  \n",
      " 19  holiday_1          731 non-null    uint8  \n",
      " 20  weekday_1          731 non-null    uint8  \n",
      " 21  weekday_2          731 non-null    uint8  \n",
      " 22  weekday_3          731 non-null    uint8  \n",
      " 23  weekday_4          731 non-null    uint8  \n",
      " 24  weekday_5          731 non-null    uint8  \n",
      " 25  weekday_6          731 non-null    uint8  \n",
      " 26  workingday_1       731 non-null    uint8  \n",
      " 27  weathersit_2       731 non-null    uint8  \n",
      " 28  weathersit_3       731 non-null    uint8  \n",
      " 29  atemp_sq           731 non-null    float64\n",
      " 30  hum_sq             731 non-null    float64\n",
      " 31  windspeed(mph)_sq  731 non-null    float64\n",
      " 32  windspeed(ms)_sq   731 non-null    float64\n",
      " 33  super_nice_day     731 non-null    bool   \n",
      "dtypes: bool(1), float64(8), uint8(25)\n",
      "memory usage: 64.4 KB\n"
     ]
    }
   ],
   "source": [
    "X.info()"
   ]
  },
  {
   "cell_type": "markdown",
   "metadata": {},
   "source": [
    "## Время регрессии"
   ]
  },
  {
   "cell_type": "markdown",
   "metadata": {},
   "source": [
    "Сначала давайте сделаем наивный прогноз:"
   ]
  },
  {
   "cell_type": "code",
   "execution_count": 24,
   "metadata": {},
   "outputs": [
    {
     "data": {
      "text/plain": [
       "array([4504.34883721, 4504.34883721, 4504.34883721, 4504.34883721,\n",
       "       4504.34883721])"
      ]
     },
     "execution_count": 24,
     "metadata": {},
     "output_type": "execute_result"
    }
   ],
   "source": [
    "y_mean = np.mean(y)                     # посчитали среднее \n",
    "y_pred_naive = np.ones(len(y)) * y_mean  # спрогнозировали им продажи\n",
    "y_pred_naive[:5]"
   ]
  },
  {
   "cell_type": "code",
   "execution_count": 25,
   "metadata": {},
   "outputs": [],
   "source": [
    "from sklearn.metrics import mean_squared_error\n",
    "\n",
    "def rmse(y_test, y_pred):\n",
    "    return np.sqrt(mean_squared_error(y_test, y_pred))"
   ]
  },
  {
   "cell_type": "code",
   "execution_count": 26,
   "metadata": {},
   "outputs": [
    {
     "data": {
      "text/plain": [
       "1935.8859561152221"
      ]
     },
     "execution_count": 26,
     "metadata": {},
     "output_type": "execute_result"
    }
   ],
   "source": [
    "rmse(y, y_pred_naive)"
   ]
  },
  {
   "cell_type": "markdown",
   "metadata": {},
   "source": [
    " Теперь будем использовать для предсказания линейную регрессию:"
   ]
  },
  {
   "cell_type": "code",
   "execution_count": 27,
   "metadata": {},
   "outputs": [],
   "source": [
    "from sklearn.linear_model import LinearRegression # подгрузили модель\n",
    "\n",
    "# Объявили модель\n",
    "model = LinearRegression()\n",
    "\n",
    "# Обучили модель \n",
    "model.fit(X, y)\n",
    "\n",
    "# Сделали прогнозы \n",
    "y_pred = model.predict(X)"
   ]
  },
  {
   "cell_type": "markdown",
   "metadata": {},
   "source": [
    "Оценим качество:"
   ]
  },
  {
   "cell_type": "code",
   "execution_count": 28,
   "metadata": {},
   "outputs": [
    {
     "data": {
      "text/plain": [
       "694.6379164897969"
      ]
     },
     "execution_count": 28,
     "metadata": {},
     "output_type": "execute_result"
    }
   ],
   "source": [
    "rmse(y, y_pred)"
   ]
  },
  {
   "cell_type": "markdown",
   "metadata": {},
   "source": [
    "Ура, качество стало лучше!"
   ]
  },
  {
   "cell_type": "markdown",
   "metadata": {},
   "source": [
    "## Валидация"
   ]
  },
  {
   "cell_type": "markdown",
   "metadata": {},
   "source": [
    "На самом деле, мы не можем оценивать качество модели на тех же данных, на которых мы ее обучали. Нам важно, чтобы модель могла давать хорошие прогнозы для новых данных. Поэтому мы будем делить наши данные на две части: тренировочную и тестовую выборку. На тренировочной будем обучать модель, а на тестовой делать предсказания и оценивать, насколько они точные."
   ]
  },
  {
   "cell_type": "code",
   "execution_count": 29,
   "metadata": {},
   "outputs": [],
   "source": [
    "from sklearn.model_selection import train_test_split  # функция для деления \n",
    "\n",
    "# делим в пропорции 70 к 30\n",
    "y_train, y_test, X_train, X_test = train_test_split(y, X, test_size = 0.3)"
   ]
  },
  {
   "cell_type": "code",
   "execution_count": 30,
   "metadata": {},
   "outputs": [],
   "source": [
    "# Обучили модель на тренировочной выборке \n",
    "model.fit(X_train, y_train)\n",
    "\n",
    "# Сделали прогнозы на тестовой выборке \n",
    "y_pred = model.predict(X_test)"
   ]
  },
  {
   "cell_type": "code",
   "execution_count": 31,
   "metadata": {},
   "outputs": [
    {
     "data": {
      "text/plain": [
       "671.7598556045283"
      ]
     },
     "execution_count": 31,
     "metadata": {},
     "output_type": "execute_result"
    }
   ],
   "source": [
    "rmse(y_test, y_pred)"
   ]
  },
  {
   "cell_type": "code",
   "execution_count": 32,
   "metadata": {},
   "outputs": [],
   "source": [
    "# Функция для того, чтобы на одной картинке смотреть те графики с прогнозами.\n",
    "def plot_yreal_ypred(y_test, y_train, y_test_hat, y_train_hat):\n",
    "    \"\"\"\n",
    "        Рисует картинку для прогнозов регрессии \n",
    "    \"\"\"\n",
    "    \n",
    "    margin = 0.1 # отступ на границах\n",
    "    plt.figure(figsize=(10,5))\n",
    "    plt.subplot(121)\n",
    "    plt.scatter(y_train, y_train_hat, color=\"red\", alpha=0.5)\n",
    "    plt.xlabel('Истинные значения')\n",
    "    plt.ylabel('Предсказанные значения')\n",
    "    plt.axis('equal')\n",
    "    plt.axis('square')\n",
    "    train_min = min(y_train)\n",
    "    train_max = max(y_train)\n",
    "    plt.xlim(train_min - margin, train_max + margin)\n",
    "    plt.ylim(train_min - margin, train_max + margin)\n",
    "    plt.plot([-10000, 10000], [-10000, 10000])\n",
    "    plt.title('Train set', fontsize=20)\n",
    "\n",
    "    plt.subplot(122)\n",
    "    plt.scatter(y_test, y_test_hat, color=\"red\", alpha=0.5)\n",
    "    plt.xlabel('Истинные значения')\n",
    "    plt.ylabel('Предсказанные значения')\n",
    "    plt.axis('equal')\n",
    "    plt.axis('square')\n",
    "    test_min = min(y_test)\n",
    "    test_max = max(y_test)\n",
    "    plt.xlim(test_min - margin, test_max + margin)\n",
    "    plt.ylim(test_min - margin, test_max + margin)\n",
    "    plt.plot([-10000, 10000], [-10000, 10000])\n",
    "    plt.title('Test set', fontsize=20)\n",
    "    pass"
   ]
  },
  {
   "cell_type": "code",
   "execution_count": 33,
   "metadata": {},
   "outputs": [
    {
     "data": {
      "image/png": "[encoded data removed]",
      "text/plain": [
       "<Figure size 720x360 with 2 Axes>"
      ]
     },
     "metadata": {
      "needs_background": "light"
     },
     "output_type": "display_data"
    }
   ],
   "source": [
    "plot_yreal_ypred(y_test, y_train, y_pred, model.predict(X_train))"
   ]
  },
  {
   "cell_type": "markdown",
   "metadata": {},
   "source": [
    "Теперь давайте посмотрим коэффициенты, которые получились у предикторов:"
   ]
  },
  {
   "cell_type": "code",
   "execution_count": 34,
   "metadata": {},
   "outputs": [],
   "source": [
    "features = list(df.columns)  "
   ]
  },
  {
   "cell_type": "code",
   "execution_count": 35,
   "metadata": {},
   "outputs": [
    {
     "name": "stdout",
     "output_type": "stream",
     "text": [
      "season 355.84\n",
      "yr 35.81\n",
      "mnth 13635014286732.16\n",
      "holiday -30501526959404.56\n",
      "weekday 847.23\n",
      "workingday 869.21\n",
      "weathersit 1420.1\n",
      "atemp 1939.21\n",
      "hum 119.37\n",
      "windspeed(mph) -643.17\n",
      "windspeed(ms) -369.83\n",
      "cnt -142.28\n"
     ]
    }
   ],
   "source": [
    "for co, fe in zip(model.coef_, features):\n",
    "    print(fe, round(co, 2))"
   ]
  },
  {
   "cell_type": "markdown",
   "metadata": {},
   "source": [
    "Также можем оценить коэффициент детерминации:"
   ]
  },
  {
   "cell_type": "code",
   "execution_count": 36,
   "metadata": {},
   "outputs": [],
   "source": [
    "from sklearn.metrics import r2_score"
   ]
  },
  {
   "cell_type": "code",
   "execution_count": 37,
   "metadata": {},
   "outputs": [
    {
     "name": "stdout",
     "output_type": "stream",
     "text": [
      "0.8804006266870203\n"
     ]
    }
   ],
   "source": [
    "print(r2_score(y_test, y_pred))"
   ]
  },
  {
   "cell_type": "markdown",
   "metadata": {},
   "source": [
    "Отлично, наша модель объясняет 83% разброса. Это неплохой результат!"
   ]
  },
  {
   "cell_type": "markdown",
   "metadata": {},
   "source": [
    "## Кросс-валидация"
   ]
  },
  {
   "cell_type": "code",
   "execution_count": 42,
   "metadata": {},
   "outputs": [
    {
     "data": {
      "text/plain": [
       "array([0.84038415, 0.87943047, 0.84006911, 0.76250719, 0.89160006])"
      ]
     },
     "execution_count": 42,
     "metadata": {},
     "output_type": "execute_result"
    }
   ],
   "source": [
    "from sklearn.model_selection import cross_val_score\n",
    "from sklearn.model_selection import KFold\n",
    "from sklearn.model_selection import GridSearchCV\n",
    "lm = LinearRegression()\n",
    "scores = cross_val_score(lm, X_train, y_train, scoring='r2', cv=5)\n",
    "scores "
   ]
  },
  {
   "cell_type": "code",
   "execution_count": 44,
   "metadata": {},
   "outputs": [
    {
     "data": {
      "text/plain": [
       "array([0.80048801, 0.85337349, 0.86158734, 0.83992865, 0.81827877])"
      ]
     },
     "execution_count": 44,
     "metadata": {},
     "output_type": "execute_result"
    }
   ],
   "source": [
    "folds = KFold(n_splits = 5, shuffle = True, random_state = 100)\n",
    "scores = cross_val_score(lm, X_train, y_train, scoring='r2', cv=folds)\n",
    "scores   "
   ]
  },
  {
   "cell_type": "code",
   "execution_count": 45,
   "metadata": {},
   "outputs": [
    {
     "data": {
      "text/plain": [
       "array([-592501.85100165, -351519.8787274 , -667211.61474149,\n",
       "       -872916.41657663, -430224.37477993])"
      ]
     },
     "execution_count": 45,
     "metadata": {},
     "output_type": "execute_result"
    }
   ],
   "source": [
    "scores = cross_val_score(lm, X_train, y_train, scoring='neg_mean_squared_error', cv=5)\n",
    "scores"
   ]
  },
  {
   "cell_type": "code",
   "execution_count": 47,
   "metadata": {},
   "outputs": [
    {
     "name": "stdout",
     "output_type": "stream",
     "text": [
      "Fitting 5 folds for each of 13 candidates, totalling 65 fits\n"
     ]
    },
    {
     "data": {
      "text/html": [
       "<style>#sk-container-id-1 {color: black;background-color: white;}#sk-container-id-1 pre{padding: 0;}#sk-container-id-1 div.sk-toggleable {background-color: white;}#sk-container-id-1 label.sk-toggleable__label {cursor: pointer;display: block;width: 100%;margin-bottom: 0;padding: 0.3em;box-sizing: border-box;text-align: center;}#sk-container-id-1 label.sk-toggleable__label-arrow:before {content: \"▸\";float: left;margin-right: 0.25em;color: #696969;}#sk-container-id-1 label.sk-toggleable__label-arrow:hover:before {color: black;}#sk-container-id-1 div.sk-estimator:hover label.sk-toggleable__label-arrow:before {color: black;}#sk-container-id-1 div.sk-toggleable__content {max-height: 0;max-width: 0;overflow: hidden;text-align: left;background-color: #f0f8ff;}#sk-container-id-1 div.sk-toggleable__content pre {margin: 0.2em;color: black;border-radius: 0.25em;background-color: #f0f8ff;}#sk-container-id-1 input.sk-toggleable__control:checked~div.sk-toggleable__content {max-height: 200px;max-width: 100%;overflow: auto;}#sk-container-id-1 input.sk-toggleable__control:checked~label.sk-toggleable__label-arrow:before {content: \"▾\";}#sk-container-id-1 div.sk-estimator input.sk-toggleable__control:checked~label.sk-toggleable__label {background-color: #d4ebff;}#sk-container-id-1 div.sk-label input.sk-toggleable__control:checked~label.sk-toggleable__label {background-color: #d4ebff;}#sk-container-id-1 input.sk-hidden--visually {border: 0;clip: rect(1px 1px 1px 1px);clip: rect(1px, 1px, 1px, 1px);height: 1px;margin: -1px;overflow: hidden;padding: 0;position: absolute;width: 1px;}#sk-container-id-1 div.sk-estimator {font-family: monospace;background-color: #f0f8ff;border: 1px dotted black;border-radius: 0.25em;box-sizing: border-box;margin-bottom: 0.5em;}#sk-container-id-1 div.sk-estimator:hover {background-color: #d4ebff;}#sk-container-id-1 div.sk-parallel-item::after {content: \"\";width: 100%;border-bottom: 1px solid gray;flex-grow: 1;}#sk-container-id-1 div.sk-label:hover label.sk-toggleable__label {background-color: #d4ebff;}#sk-container-id-1 div.sk-serial::before {content: \"\";position: absolute;border-left: 1px solid gray;box-sizing: border-box;top: 0;bottom: 0;left: 50%;z-index: 0;}#sk-container-id-1 div.sk-serial {display: flex;flex-direction: column;align-items: center;background-color: white;padding-right: 0.2em;padding-left: 0.2em;position: relative;}#sk-container-id-1 div.sk-item {position: relative;z-index: 1;}#sk-container-id-1 div.sk-parallel {display: flex;align-items: stretch;justify-content: center;background-color: white;position: relative;}#sk-container-id-1 div.sk-item::before, #sk-container-id-1 div.sk-parallel-item::before {content: \"\";position: absolute;border-left: 1px solid gray;box-sizing: border-box;top: 0;bottom: 0;left: 50%;z-index: -1;}#sk-container-id-1 div.sk-parallel-item {display: flex;flex-direction: column;z-index: 1;position: relative;background-color: white;}#sk-container-id-1 div.sk-parallel-item:first-child::after {align-self: flex-end;width: 50%;}#sk-container-id-1 div.sk-parallel-item:last-child::after {align-self: flex-start;width: 50%;}#sk-container-id-1 div.sk-parallel-item:only-child::after {width: 0;}#sk-container-id-1 div.sk-dashed-wrapped {border: 1px dashed gray;margin: 0 0.4em 0.5em 0.4em;box-sizing: border-box;padding-bottom: 0.4em;background-color: white;}#sk-container-id-1 div.sk-label label {font-family: monospace;font-weight: bold;display: inline-block;line-height: 1.2em;}#sk-container-id-1 div.sk-label-container {text-align: center;}#sk-container-id-1 div.sk-container {/* jupyter's `normalize.less` sets `[hidden] { display: none; }` but bootstrap.min.css set `[hidden] { display: none !important; }` so we also need the `!important` here to be able to override the default hidden behavior on the sphinx rendered scikit-learn.org. See: https://github.com/scikit-learn/scikit-learn/issues/21755 */display: inline-block !important;position: relative;}#sk-container-id-1 div.sk-text-repr-fallback {display: none;}</style><div id=\"sk-container-id-1\" class=\"sk-top-container\"><div class=\"sk-text-repr-fallback\"><pre>GridSearchCV(cv=KFold(n_splits=5, random_state=100, shuffle=True),\n",
       "             estimator=RFE(estimator=LinearRegression()),\n",
       "             param_grid=[{&#x27;n_features_to_select&#x27;: [1, 2, 3, 4, 5, 6, 7, 8, 9,\n",
       "                                                   10, 11, 12, 13]}],\n",
       "             return_train_score=True, scoring=&#x27;r2&#x27;, verbose=1)</pre><b>In a Jupyter environment, please rerun this cell to show the HTML representation or trust the notebook. <br />On GitHub, the HTML representation is unable to render, please try loading this page with nbviewer.org.</b></div><div class=\"sk-container\" hidden><div class=\"sk-item sk-dashed-wrapped\"><div class=\"sk-label-container\"><div class=\"sk-label sk-toggleable\"><input class=\"sk-toggleable__control sk-hidden--visually\" id=\"sk-estimator-id-1\" type=\"checkbox\" ><label for=\"sk-estimator-id-1\" class=\"sk-toggleable__label sk-toggleable__label-arrow\">GridSearchCV</label><div class=\"sk-toggleable__content\"><pre>GridSearchCV(cv=KFold(n_splits=5, random_state=100, shuffle=True),\n",
       "             estimator=RFE(estimator=LinearRegression()),\n",
       "             param_grid=[{&#x27;n_features_to_select&#x27;: [1, 2, 3, 4, 5, 6, 7, 8, 9,\n",
       "                                                   10, 11, 12, 13]}],\n",
       "             return_train_score=True, scoring=&#x27;r2&#x27;, verbose=1)</pre></div></div></div><div class=\"sk-parallel\"><div class=\"sk-parallel-item\"><div class=\"sk-item\"><div class=\"sk-label-container\"><div class=\"sk-label sk-toggleable\"><input class=\"sk-toggleable__control sk-hidden--visually\" id=\"sk-estimator-id-2\" type=\"checkbox\" ><label for=\"sk-estimator-id-2\" class=\"sk-toggleable__label sk-toggleable__label-arrow\">estimator: RFE</label><div class=\"sk-toggleable__content\"><pre>RFE(estimator=LinearRegression())</pre></div></div></div><div class=\"sk-serial\"><div class=\"sk-item sk-dashed-wrapped\"><div class=\"sk-parallel\"><div class=\"sk-parallel-item\"><div class=\"sk-item\"><div class=\"sk-label-container\"><div class=\"sk-label sk-toggleable\"><input class=\"sk-toggleable__control sk-hidden--visually\" id=\"sk-estimator-id-3\" type=\"checkbox\" ><label for=\"sk-estimator-id-3\" class=\"sk-toggleable__label sk-toggleable__label-arrow\">estimator: LinearRegression</label><div class=\"sk-toggleable__content\"><pre>LinearRegression()</pre></div></div></div><div class=\"sk-serial\"><div class=\"sk-item\"><div class=\"sk-estimator sk-toggleable\"><input class=\"sk-toggleable__control sk-hidden--visually\" id=\"sk-estimator-id-4\" type=\"checkbox\" ><label for=\"sk-estimator-id-4\" class=\"sk-toggleable__label sk-toggleable__label-arrow\">LinearRegression</label><div class=\"sk-toggleable__content\"><pre>LinearRegression()</pre></div></div></div></div></div></div></div></div></div></div></div></div></div></div></div>"
      ],
      "text/plain": [
       "GridSearchCV(cv=KFold(n_splits=5, random_state=100, shuffle=True),\n",
       "             estimator=RFE(estimator=LinearRegression()),\n",
       "             param_grid=[{'n_features_to_select': [1, 2, 3, 4, 5, 6, 7, 8, 9,\n",
       "                                                   10, 11, 12, 13]}],\n",
       "             return_train_score=True, scoring='r2', verbose=1)"
      ]
     },
     "execution_count": 47,
     "metadata": {},
     "output_type": "execute_result"
    }
   ],
   "source": [
    "from sklearn.feature_selection import RFE\n",
    "folds = KFold(n_splits = 5, shuffle = True, random_state = 100)\n",
    "\n",
    "hyper_params = [{'n_features_to_select': list(range(1, 14))}]\n",
    "\n",
    "\n",
    "\n",
    "lm = LinearRegression()\n",
    "lm.fit(X_train, y_train)\n",
    "rfe = RFE(lm)             \n",
    "\n",
    "model_cv = GridSearchCV(estimator = rfe, \n",
    "                        param_grid = hyper_params, \n",
    "                        scoring= 'r2', \n",
    "                        cv = folds, \n",
    "                        return_train_score=True)      \n",
    "\n",
    "\n",
    "model_cv.fit(X_train, y_train)       "
   ]
  },
  {
   "cell_type": "code",
   "execution_count": 48,
   "metadata": {},
   "outputs": [
    {
     "data": {
      "text/html": [
       "<div>\n",
       "<style scoped>\n",
       "    .dataframe tbody tr th:only-of-type {\n",
       "        vertical-align: middle;\n",
       "    }\n",
       "\n",
       "    .dataframe tbody tr th {\n",
       "        vertical-align: top;\n",
       "    }\n",
       "\n",
       "    .dataframe thead th {\n",
       "        text-align: right;\n",
       "    }\n",
       "</style>\n",
       "<table border=\"1\" class=\"dataframe\">\n",
       "  <thead>\n",
       "    <tr style=\"text-align: right;\">\n",
       "      <th></th>\n",
       "      <th>mean_fit_time</th>\n",
       "      <th>std_fit_time</th>\n",
       "      <th>mean_score_time</th>\n",
       "      <th>std_score_time</th>\n",
       "      <th>param_n_features_to_select</th>\n",
       "      <th>params</th>\n",
       "      <th>split0_test_score</th>\n",
       "      <th>split1_test_score</th>\n",
       "      <th>split2_test_score</th>\n",
       "      <th>split3_test_score</th>\n",
       "      <th>...</th>\n",
       "      <th>mean_test_score</th>\n",
       "      <th>std_test_score</th>\n",
       "      <th>rank_test_score</th>\n",
       "      <th>split0_train_score</th>\n",
       "      <th>split1_train_score</th>\n",
       "      <th>split2_train_score</th>\n",
       "      <th>split3_train_score</th>\n",
       "      <th>split4_train_score</th>\n",
       "      <th>mean_train_score</th>\n",
       "      <th>std_train_score</th>\n",
       "    </tr>\n",
       "  </thead>\n",
       "  <tbody>\n",
       "    <tr>\n",
       "      <th>0</th>\n",
       "      <td>0.154392</td>\n",
       "      <td>0.031775</td>\n",
       "      <td>0.003834</td>\n",
       "      <td>0.002999</td>\n",
       "      <td>1</td>\n",
       "      <td>{'n_features_to_select': 1}</td>\n",
       "      <td>0.026857</td>\n",
       "      <td>0.069056</td>\n",
       "      <td>0.092678</td>\n",
       "      <td>0.027609</td>\n",
       "      <td>...</td>\n",
       "      <td>0.023705</td>\n",
       "      <td>0.065684</td>\n",
       "      <td>12</td>\n",
       "      <td>0.044612</td>\n",
       "      <td>0.055495</td>\n",
       "      <td>0.048327</td>\n",
       "      <td>0.060348</td>\n",
       "      <td>0.083416</td>\n",
       "      <td>0.058440</td>\n",
       "      <td>0.013635</td>\n",
       "    </tr>\n",
       "    <tr>\n",
       "      <th>1</th>\n",
       "      <td>0.155361</td>\n",
       "      <td>0.028151</td>\n",
       "      <td>0.007258</td>\n",
       "      <td>0.003394</td>\n",
       "      <td>2</td>\n",
       "      <td>{'n_features_to_select': 2}</td>\n",
       "      <td>0.019993</td>\n",
       "      <td>0.069340</td>\n",
       "      <td>0.092213</td>\n",
       "      <td>0.027185</td>\n",
       "      <td>...</td>\n",
       "      <td>0.022188</td>\n",
       "      <td>0.065653</td>\n",
       "      <td>13</td>\n",
       "      <td>0.046062</td>\n",
       "      <td>0.055634</td>\n",
       "      <td>0.048630</td>\n",
       "      <td>0.060356</td>\n",
       "      <td>0.083417</td>\n",
       "      <td>0.058820</td>\n",
       "      <td>0.013298</td>\n",
       "    </tr>\n",
       "    <tr>\n",
       "      <th>2</th>\n",
       "      <td>0.143634</td>\n",
       "      <td>0.019897</td>\n",
       "      <td>0.006104</td>\n",
       "      <td>0.003121</td>\n",
       "      <td>3</td>\n",
       "      <td>{'n_features_to_select': 3}</td>\n",
       "      <td>0.022116</td>\n",
       "      <td>0.060348</td>\n",
       "      <td>0.101258</td>\n",
       "      <td>0.036322</td>\n",
       "      <td>...</td>\n",
       "      <td>0.025425</td>\n",
       "      <td>0.064970</td>\n",
       "      <td>10</td>\n",
       "      <td>0.051102</td>\n",
       "      <td>0.061411</td>\n",
       "      <td>0.050152</td>\n",
       "      <td>0.062177</td>\n",
       "      <td>0.086927</td>\n",
       "      <td>0.062354</td>\n",
       "      <td>0.013268</td>\n",
       "    </tr>\n",
       "    <tr>\n",
       "      <th>3</th>\n",
       "      <td>0.128544</td>\n",
       "      <td>0.010622</td>\n",
       "      <td>0.004855</td>\n",
       "      <td>0.002836</td>\n",
       "      <td>4</td>\n",
       "      <td>{'n_features_to_select': 4}</td>\n",
       "      <td>0.021839</td>\n",
       "      <td>0.060213</td>\n",
       "      <td>0.096437</td>\n",
       "      <td>0.034589</td>\n",
       "      <td>...</td>\n",
       "      <td>0.024038</td>\n",
       "      <td>0.063779</td>\n",
       "      <td>11</td>\n",
       "      <td>0.051119</td>\n",
       "      <td>0.061418</td>\n",
       "      <td>0.050759</td>\n",
       "      <td>0.062346</td>\n",
       "      <td>0.086928</td>\n",
       "      <td>0.062514</td>\n",
       "      <td>0.013155</td>\n",
       "    </tr>\n",
       "    <tr>\n",
       "      <th>4</th>\n",
       "      <td>0.127687</td>\n",
       "      <td>0.024116</td>\n",
       "      <td>0.006223</td>\n",
       "      <td>0.004017</td>\n",
       "      <td>5</td>\n",
       "      <td>{'n_features_to_select': 5}</td>\n",
       "      <td>0.018661</td>\n",
       "      <td>0.065556</td>\n",
       "      <td>0.097143</td>\n",
       "      <td>0.053459</td>\n",
       "      <td>...</td>\n",
       "      <td>0.031567</td>\n",
       "      <td>0.059808</td>\n",
       "      <td>4</td>\n",
       "      <td>0.062069</td>\n",
       "      <td>0.069566</td>\n",
       "      <td>0.056865</td>\n",
       "      <td>0.066896</td>\n",
       "      <td>0.093385</td>\n",
       "      <td>0.069756</td>\n",
       "      <td>0.012584</td>\n",
       "    </tr>\n",
       "    <tr>\n",
       "      <th>5</th>\n",
       "      <td>0.123996</td>\n",
       "      <td>0.012826</td>\n",
       "      <td>0.005252</td>\n",
       "      <td>0.002212</td>\n",
       "      <td>6</td>\n",
       "      <td>{'n_features_to_select': 6}</td>\n",
       "      <td>0.009579</td>\n",
       "      <td>0.063393</td>\n",
       "      <td>0.107147</td>\n",
       "      <td>0.053132</td>\n",
       "      <td>...</td>\n",
       "      <td>0.033251</td>\n",
       "      <td>0.058948</td>\n",
       "      <td>3</td>\n",
       "      <td>0.069213</td>\n",
       "      <td>0.074591</td>\n",
       "      <td>0.060232</td>\n",
       "      <td>0.071610</td>\n",
       "      <td>0.096292</td>\n",
       "      <td>0.074387</td>\n",
       "      <td>0.011956</td>\n",
       "    </tr>\n",
       "    <tr>\n",
       "      <th>6</th>\n",
       "      <td>0.128033</td>\n",
       "      <td>0.019227</td>\n",
       "      <td>0.005841</td>\n",
       "      <td>0.002430</td>\n",
       "      <td>7</td>\n",
       "      <td>{'n_features_to_select': 7}</td>\n",
       "      <td>-0.019098</td>\n",
       "      <td>0.054032</td>\n",
       "      <td>0.112368</td>\n",
       "      <td>0.053473</td>\n",
       "      <td>...</td>\n",
       "      <td>0.027166</td>\n",
       "      <td>0.062125</td>\n",
       "      <td>5</td>\n",
       "      <td>0.076016</td>\n",
       "      <td>0.077334</td>\n",
       "      <td>0.060992</td>\n",
       "      <td>0.073354</td>\n",
       "      <td>0.097650</td>\n",
       "      <td>0.077069</td>\n",
       "      <td>0.011807</td>\n",
       "    </tr>\n",
       "    <tr>\n",
       "      <th>7</th>\n",
       "      <td>0.115450</td>\n",
       "      <td>0.010688</td>\n",
       "      <td>0.005301</td>\n",
       "      <td>0.004993</td>\n",
       "      <td>8</td>\n",
       "      <td>{'n_features_to_select': 8}</td>\n",
       "      <td>-0.016389</td>\n",
       "      <td>0.054965</td>\n",
       "      <td>0.112926</td>\n",
       "      <td>0.057764</td>\n",
       "      <td>...</td>\n",
       "      <td>0.026602</td>\n",
       "      <td>0.065811</td>\n",
       "      <td>8</td>\n",
       "      <td>0.077930</td>\n",
       "      <td>0.079533</td>\n",
       "      <td>0.061390</td>\n",
       "      <td>0.074312</td>\n",
       "      <td>0.098407</td>\n",
       "      <td>0.078314</td>\n",
       "      <td>0.011898</td>\n",
       "    </tr>\n",
       "    <tr>\n",
       "      <th>8</th>\n",
       "      <td>0.098121</td>\n",
       "      <td>0.008274</td>\n",
       "      <td>0.005366</td>\n",
       "      <td>0.003350</td>\n",
       "      <td>9</td>\n",
       "      <td>{'n_features_to_select': 9}</td>\n",
       "      <td>-0.016742</td>\n",
       "      <td>0.055824</td>\n",
       "      <td>0.117072</td>\n",
       "      <td>0.057393</td>\n",
       "      <td>...</td>\n",
       "      <td>0.026587</td>\n",
       "      <td>0.068352</td>\n",
       "      <td>9</td>\n",
       "      <td>0.078470</td>\n",
       "      <td>0.079573</td>\n",
       "      <td>0.061886</td>\n",
       "      <td>0.074819</td>\n",
       "      <td>0.099030</td>\n",
       "      <td>0.078756</td>\n",
       "      <td>0.011932</td>\n",
       "    </tr>\n",
       "    <tr>\n",
       "      <th>9</th>\n",
       "      <td>0.115877</td>\n",
       "      <td>0.026769</td>\n",
       "      <td>0.006421</td>\n",
       "      <td>0.003370</td>\n",
       "      <td>10</td>\n",
       "      <td>{'n_features_to_select': 10}</td>\n",
       "      <td>-0.016522</td>\n",
       "      <td>0.055628</td>\n",
       "      <td>0.110811</td>\n",
       "      <td>0.058797</td>\n",
       "      <td>...</td>\n",
       "      <td>0.026959</td>\n",
       "      <td>0.064705</td>\n",
       "      <td>7</td>\n",
       "      <td>0.079033</td>\n",
       "      <td>0.079574</td>\n",
       "      <td>0.065095</td>\n",
       "      <td>0.074911</td>\n",
       "      <td>0.099938</td>\n",
       "      <td>0.079710</td>\n",
       "      <td>0.011369</td>\n",
       "    </tr>\n",
       "    <tr>\n",
       "      <th>10</th>\n",
       "      <td>0.165188</td>\n",
       "      <td>0.023562</td>\n",
       "      <td>0.008519</td>\n",
       "      <td>0.001095</td>\n",
       "      <td>11</td>\n",
       "      <td>{'n_features_to_select': 11}</td>\n",
       "      <td>-0.016539</td>\n",
       "      <td>0.055632</td>\n",
       "      <td>0.110959</td>\n",
       "      <td>0.058801</td>\n",
       "      <td>...</td>\n",
       "      <td>0.026985</td>\n",
       "      <td>0.064750</td>\n",
       "      <td>6</td>\n",
       "      <td>0.079033</td>\n",
       "      <td>0.079574</td>\n",
       "      <td>0.065094</td>\n",
       "      <td>0.074912</td>\n",
       "      <td>0.099939</td>\n",
       "      <td>0.079710</td>\n",
       "      <td>0.011370</td>\n",
       "    </tr>\n",
       "    <tr>\n",
       "      <th>11</th>\n",
       "      <td>0.117572</td>\n",
       "      <td>0.021694</td>\n",
       "      <td>0.006348</td>\n",
       "      <td>0.002859</td>\n",
       "      <td>12</td>\n",
       "      <td>{'n_features_to_select': 12}</td>\n",
       "      <td>0.363788</td>\n",
       "      <td>0.363745</td>\n",
       "      <td>0.149235</td>\n",
       "      <td>0.333810</td>\n",
       "      <td>...</td>\n",
       "      <td>0.306003</td>\n",
       "      <td>0.080253</td>\n",
       "      <td>2</td>\n",
       "      <td>0.378546</td>\n",
       "      <td>0.393942</td>\n",
       "      <td>0.103027</td>\n",
       "      <td>0.398228</td>\n",
       "      <td>0.400898</td>\n",
       "      <td>0.334928</td>\n",
       "      <td>0.116209</td>\n",
       "    </tr>\n",
       "    <tr>\n",
       "      <th>12</th>\n",
       "      <td>0.096746</td>\n",
       "      <td>0.001119</td>\n",
       "      <td>0.005671</td>\n",
       "      <td>0.002775</td>\n",
       "      <td>13</td>\n",
       "      <td>{'n_features_to_select': 13}</td>\n",
       "      <td>0.394075</td>\n",
       "      <td>0.380097</td>\n",
       "      <td>0.429827</td>\n",
       "      <td>0.359172</td>\n",
       "      <td>...</td>\n",
       "      <td>0.382483</td>\n",
       "      <td>0.028389</td>\n",
       "      <td>1</td>\n",
       "      <td>0.407140</td>\n",
       "      <td>0.425066</td>\n",
       "      <td>0.413300</td>\n",
       "      <td>0.426982</td>\n",
       "      <td>0.428737</td>\n",
       "      <td>0.420245</td>\n",
       "      <td>0.008494</td>\n",
       "    </tr>\n",
       "  </tbody>\n",
       "</table>\n",
       "<p>13 rows × 21 columns</p>\n",
       "</div>"
      ],
      "text/plain": [
       "    mean_fit_time  std_fit_time  mean_score_time  std_score_time  \\\n",
       "0        0.154392      0.031775         0.003834        0.002999   \n",
       "1        0.155361      0.028151         0.007258        0.003394   \n",
       "2        0.143634      0.019897         0.006104        0.003121   \n",
       "3        0.128544      0.010622         0.004855        0.002836   \n",
       "4        0.127687      0.024116         0.006223        0.004017   \n",
       "5        0.123996      0.012826         0.005252        0.002212   \n",
       "6        0.128033      0.019227         0.005841        0.002430   \n",
       "7        0.115450      0.010688         0.005301        0.004993   \n",
       "8        0.098121      0.008274         0.005366        0.003350   \n",
       "9        0.115877      0.026769         0.006421        0.003370   \n",
       "10       0.165188      0.023562         0.008519        0.001095   \n",
       "11       0.117572      0.021694         0.006348        0.002859   \n",
       "12       0.096746      0.001119         0.005671        0.002775   \n",
       "\n",
       "   param_n_features_to_select                        params  \\\n",
       "0                           1   {'n_features_to_select': 1}   \n",
       "1                           2   {'n_features_to_select': 2}   \n",
       "2                           3   {'n_features_to_select': 3}   \n",
       "3                           4   {'n_features_to_select': 4}   \n",
       "4                           5   {'n_features_to_select': 5}   \n",
       "5                           6   {'n_features_to_select': 6}   \n",
       "6                           7   {'n_features_to_select': 7}   \n",
       "7                           8   {'n_features_to_select': 8}   \n",
       "8                           9   {'n_features_to_select': 9}   \n",
       "9                          10  {'n_features_to_select': 10}   \n",
       "10                         11  {'n_features_to_select': 11}   \n",
       "11                         12  {'n_features_to_select': 12}   \n",
       "12                         13  {'n_features_to_select': 13}   \n",
       "\n",
       "    split0_test_score  split1_test_score  split2_test_score  \\\n",
       "0            0.026857           0.069056           0.092678   \n",
       "1            0.019993           0.069340           0.092213   \n",
       "2            0.022116           0.060348           0.101258   \n",
       "3            0.021839           0.060213           0.096437   \n",
       "4            0.018661           0.065556           0.097143   \n",
       "5            0.009579           0.063393           0.107147   \n",
       "6           -0.019098           0.054032           0.112368   \n",
       "7           -0.016389           0.054965           0.112926   \n",
       "8           -0.016742           0.055824           0.117072   \n",
       "9           -0.016522           0.055628           0.110811   \n",
       "10          -0.016539           0.055632           0.110959   \n",
       "11           0.363788           0.363745           0.149235   \n",
       "12           0.394075           0.380097           0.429827   \n",
       "\n",
       "    split3_test_score  ...  mean_test_score  std_test_score  rank_test_score  \\\n",
       "0            0.027609  ...         0.023705        0.065684               12   \n",
       "1            0.027185  ...         0.022188        0.065653               13   \n",
       "2            0.036322  ...         0.025425        0.064970               10   \n",
       "3            0.034589  ...         0.024038        0.063779               11   \n",
       "4            0.053459  ...         0.031567        0.059808                4   \n",
       "5            0.053132  ...         0.033251        0.058948                3   \n",
       "6            0.053473  ...         0.027166        0.062125                5   \n",
       "7            0.057764  ...         0.026602        0.065811                8   \n",
       "8            0.057393  ...         0.026587        0.068352                9   \n",
       "9            0.058797  ...         0.026959        0.064705                7   \n",
       "10           0.058801  ...         0.026985        0.064750                6   \n",
       "11           0.333810  ...         0.306003        0.080253                2   \n",
       "12           0.359172  ...         0.382483        0.028389                1   \n",
       "\n",
       "    split0_train_score  split1_train_score  split2_train_score  \\\n",
       "0             0.044612            0.055495            0.048327   \n",
       "1             0.046062            0.055634            0.048630   \n",
       "2             0.051102            0.061411            0.050152   \n",
       "3             0.051119            0.061418            0.050759   \n",
       "4             0.062069            0.069566            0.056865   \n",
       "5             0.069213            0.074591            0.060232   \n",
       "6             0.076016            0.077334            0.060992   \n",
       "7             0.077930            0.079533            0.061390   \n",
       "8             0.078470            0.079573            0.061886   \n",
       "9             0.079033            0.079574            0.065095   \n",
       "10            0.079033            0.079574            0.065094   \n",
       "11            0.378546            0.393942            0.103027   \n",
       "12            0.407140            0.425066            0.413300   \n",
       "\n",
       "    split3_train_score  split4_train_score  mean_train_score  std_train_score  \n",
       "0             0.060348            0.083416          0.058440         0.013635  \n",
       "1             0.060356            0.083417          0.058820         0.013298  \n",
       "2             0.062177            0.086927          0.062354         0.013268  \n",
       "3             0.062346            0.086928          0.062514         0.013155  \n",
       "4             0.066896            0.093385          0.069756         0.012584  \n",
       "5             0.071610            0.096292          0.074387         0.011956  \n",
       "6             0.073354            0.097650          0.077069         0.011807  \n",
       "7             0.074312            0.098407          0.078314         0.011898  \n",
       "8             0.074819            0.099030          0.078756         0.011932  \n",
       "9             0.074911            0.099938          0.079710         0.011369  \n",
       "10            0.074912            0.099939          0.079710         0.011370  \n",
       "11            0.398228            0.400898          0.334928         0.116209  \n",
       "12            0.426982            0.428737          0.420245         0.008494  \n",
       "\n",
       "[13 rows x 21 columns]"
      ]
     },
     "execution_count": 48,
     "metadata": {},
     "output_type": "execute_result"
    }
   ],
   "source": [
    "cv_results = pd.DataFrame(model_cv.cv_results_)\n",
    "cv_results"
   ]
  },
  {
   "cell_type": "code",
   "execution_count": 49,
   "metadata": {},
   "outputs": [
    {
     "data": {
      "text/plain": [
       "<matplotlib.legend.Legend at 0x15b44c31f70>"
      ]
     },
     "execution_count": 49,
     "metadata": {},
     "output_type": "execute_result"
    },
    {
     "data": {
      "image/png": "[encoded data removed]",
      "text/plain": [
       "<Figure size 1152x432 with 1 Axes>"
      ]
     },
     "metadata": {
      "needs_background": "light"
     },
     "output_type": "display_data"
    }
   ],
   "source": [
    "plt.figure(figsize=(16,6))\n",
    "\n",
    "plt.plot(cv_results[\"param_n_features_to_select\"], cv_results[\"mean_test_score\"])\n",
    "plt.plot(cv_results[\"param_n_features_to_select\"], cv_results[\"mean_train_score\"])\n",
    "plt.xlabel('number of features')\n",
    "plt.ylabel('r-squared')\n",
    "plt.title(\"Optimal Number of Features\")\n",
    "plt.legend(['test score', 'train score'], loc='upper left')"
   ]
  },
  {
   "cell_type": "markdown",
   "metadata": {},
   "source": [
    "## Нормализация признаков\n",
    "Казалось бы, чем больше коэффициент модели, тем сильнее признак влияет на предсказание.\n",
    "​\n",
    "Но давайте посмотрим на разброс признаков:"
   ]
  },
  {
   "cell_type": "code",
   "execution_count": 38,
   "metadata": {},
   "outputs": [
    {
     "data": {
      "text/html": [
       "<div>\n",
       "<style scoped>\n",
       "    .dataframe tbody tr th:only-of-type {\n",
       "        vertical-align: middle;\n",
       "    }\n",
       "\n",
       "    .dataframe tbody tr th {\n",
       "        vertical-align: top;\n",
       "    }\n",
       "\n",
       "    .dataframe thead th {\n",
       "        text-align: right;\n",
       "    }\n",
       "</style>\n",
       "<table border=\"1\" class=\"dataframe\">\n",
       "  <thead>\n",
       "    <tr style=\"text-align: right;\">\n",
       "      <th></th>\n",
       "      <th>atemp</th>\n",
       "      <th>hum</th>\n",
       "      <th>windspeed(mph)</th>\n",
       "      <th>windspeed(ms)</th>\n",
       "      <th>cnt</th>\n",
       "      <th>season_2</th>\n",
       "      <th>season_3</th>\n",
       "      <th>season_4</th>\n",
       "      <th>yr_1</th>\n",
       "      <th>mnth_10</th>\n",
       "      <th>...</th>\n",
       "      <th>weekday_4</th>\n",
       "      <th>weekday_5</th>\n",
       "      <th>weekday_6</th>\n",
       "      <th>workingday_1</th>\n",
       "      <th>weathersit_2</th>\n",
       "      <th>weathersit_3</th>\n",
       "      <th>atemp_sq</th>\n",
       "      <th>hum_sq</th>\n",
       "      <th>windspeed(mph)_sq</th>\n",
       "      <th>windspeed(ms)_sq</th>\n",
       "    </tr>\n",
       "  </thead>\n",
       "  <tbody>\n",
       "    <tr>\n",
       "      <th>count</th>\n",
       "      <td>731.000000</td>\n",
       "      <td>731.000000</td>\n",
       "      <td>731.000000</td>\n",
       "      <td>731.000000</td>\n",
       "      <td>731.000000</td>\n",
       "      <td>731.000000</td>\n",
       "      <td>731.000000</td>\n",
       "      <td>731.000000</td>\n",
       "      <td>731.000000</td>\n",
       "      <td>731.000000</td>\n",
       "      <td>...</td>\n",
       "      <td>731.000000</td>\n",
       "      <td>731.000000</td>\n",
       "      <td>731.000000</td>\n",
       "      <td>731.000000</td>\n",
       "      <td>731.000000</td>\n",
       "      <td>731.000000</td>\n",
       "      <td>731.000000</td>\n",
       "      <td>731.000000</td>\n",
       "      <td>731.000000</td>\n",
       "      <td>731.000000</td>\n",
       "    </tr>\n",
       "    <tr>\n",
       "      <th>mean</th>\n",
       "      <td>23.717699</td>\n",
       "      <td>62.789406</td>\n",
       "      <td>12.762576</td>\n",
       "      <td>5.705220</td>\n",
       "      <td>4504.348837</td>\n",
       "      <td>0.251710</td>\n",
       "      <td>0.257182</td>\n",
       "      <td>0.243502</td>\n",
       "      <td>0.500684</td>\n",
       "      <td>0.084815</td>\n",
       "      <td>...</td>\n",
       "      <td>0.142271</td>\n",
       "      <td>0.142271</td>\n",
       "      <td>0.143639</td>\n",
       "      <td>0.683995</td>\n",
       "      <td>0.337893</td>\n",
       "      <td>0.028728</td>\n",
       "      <td>628.829309</td>\n",
       "      <td>4145.092503</td>\n",
       "      <td>189.807044</td>\n",
       "      <td>37.929783</td>\n",
       "    </tr>\n",
       "    <tr>\n",
       "      <th>std</th>\n",
       "      <td>8.148059</td>\n",
       "      <td>14.242910</td>\n",
       "      <td>5.192357</td>\n",
       "      <td>2.321125</td>\n",
       "      <td>1937.211452</td>\n",
       "      <td>0.434293</td>\n",
       "      <td>0.437380</td>\n",
       "      <td>0.429489</td>\n",
       "      <td>0.500342</td>\n",
       "      <td>0.278797</td>\n",
       "      <td>...</td>\n",
       "      <td>0.349567</td>\n",
       "      <td>0.349567</td>\n",
       "      <td>0.350963</td>\n",
       "      <td>0.465233</td>\n",
       "      <td>0.473316</td>\n",
       "      <td>0.167155</td>\n",
       "      <td>383.586687</td>\n",
       "      <td>1796.618284</td>\n",
       "      <td>155.354933</td>\n",
       "      <td>31.045101</td>\n",
       "    </tr>\n",
       "    <tr>\n",
       "      <th>min</th>\n",
       "      <td>3.953480</td>\n",
       "      <td>0.000000</td>\n",
       "      <td>1.500244</td>\n",
       "      <td>0.670650</td>\n",
       "      <td>22.000000</td>\n",
       "      <td>0.000000</td>\n",
       "      <td>0.000000</td>\n",
       "      <td>0.000000</td>\n",
       "      <td>0.000000</td>\n",
       "      <td>0.000000</td>\n",
       "      <td>...</td>\n",
       "      <td>0.000000</td>\n",
       "      <td>0.000000</td>\n",
       "      <td>0.000000</td>\n",
       "      <td>0.000000</td>\n",
       "      <td>0.000000</td>\n",
       "      <td>0.000000</td>\n",
       "      <td>15.630004</td>\n",
       "      <td>0.000000</td>\n",
       "      <td>2.250732</td>\n",
       "      <td>0.449771</td>\n",
       "    </tr>\n",
       "    <tr>\n",
       "      <th>25%</th>\n",
       "      <td>16.892125</td>\n",
       "      <td>52.000000</td>\n",
       "      <td>9.041650</td>\n",
       "      <td>4.041864</td>\n",
       "      <td>3152.000000</td>\n",
       "      <td>0.000000</td>\n",
       "      <td>0.000000</td>\n",
       "      <td>0.000000</td>\n",
       "      <td>0.000000</td>\n",
       "      <td>0.000000</td>\n",
       "      <td>...</td>\n",
       "      <td>0.000000</td>\n",
       "      <td>0.000000</td>\n",
       "      <td>0.000000</td>\n",
       "      <td>0.000000</td>\n",
       "      <td>0.000000</td>\n",
       "      <td>0.000000</td>\n",
       "      <td>285.343910</td>\n",
       "      <td>2704.000000</td>\n",
       "      <td>81.751435</td>\n",
       "      <td>16.336665</td>\n",
       "    </tr>\n",
       "    <tr>\n",
       "      <th>50%</th>\n",
       "      <td>24.336650</td>\n",
       "      <td>62.666700</td>\n",
       "      <td>12.125325</td>\n",
       "      <td>5.420351</td>\n",
       "      <td>4548.000000</td>\n",
       "      <td>0.000000</td>\n",
       "      <td>0.000000</td>\n",
       "      <td>0.000000</td>\n",
       "      <td>1.000000</td>\n",
       "      <td>0.000000</td>\n",
       "      <td>...</td>\n",
       "      <td>0.000000</td>\n",
       "      <td>0.000000</td>\n",
       "      <td>0.000000</td>\n",
       "      <td>1.000000</td>\n",
       "      <td>0.000000</td>\n",
       "      <td>0.000000</td>\n",
       "      <td>592.272533</td>\n",
       "      <td>3927.115289</td>\n",
       "      <td>147.023506</td>\n",
       "      <td>29.380204</td>\n",
       "    </tr>\n",
       "    <tr>\n",
       "      <th>75%</th>\n",
       "      <td>30.430100</td>\n",
       "      <td>73.020850</td>\n",
       "      <td>15.625371</td>\n",
       "      <td>6.984967</td>\n",
       "      <td>5956.000000</td>\n",
       "      <td>1.000000</td>\n",
       "      <td>1.000000</td>\n",
       "      <td>0.000000</td>\n",
       "      <td>1.000000</td>\n",
       "      <td>0.000000</td>\n",
       "      <td>...</td>\n",
       "      <td>0.000000</td>\n",
       "      <td>0.000000</td>\n",
       "      <td>0.000000</td>\n",
       "      <td>1.000000</td>\n",
       "      <td>1.000000</td>\n",
       "      <td>0.000000</td>\n",
       "      <td>925.991969</td>\n",
       "      <td>5332.044969</td>\n",
       "      <td>244.152235</td>\n",
       "      <td>48.789766</td>\n",
       "    </tr>\n",
       "    <tr>\n",
       "      <th>max</th>\n",
       "      <td>42.044800</td>\n",
       "      <td>97.250000</td>\n",
       "      <td>34.000021</td>\n",
       "      <td>15.198937</td>\n",
       "      <td>8714.000000</td>\n",
       "      <td>1.000000</td>\n",
       "      <td>1.000000</td>\n",
       "      <td>1.000000</td>\n",
       "      <td>1.000000</td>\n",
       "      <td>1.000000</td>\n",
       "      <td>...</td>\n",
       "      <td>1.000000</td>\n",
       "      <td>1.000000</td>\n",
       "      <td>1.000000</td>\n",
       "      <td>1.000000</td>\n",
       "      <td>1.000000</td>\n",
       "      <td>1.000000</td>\n",
       "      <td>1767.765207</td>\n",
       "      <td>9457.562500</td>\n",
       "      <td>1156.001428</td>\n",
       "      <td>231.007671</td>\n",
       "    </tr>\n",
       "  </tbody>\n",
       "</table>\n",
       "<p>8 rows × 34 columns</p>\n",
       "</div>"
      ],
      "text/plain": [
       "            atemp         hum  windspeed(mph)  windspeed(ms)          cnt  \\\n",
       "count  731.000000  731.000000      731.000000     731.000000   731.000000   \n",
       "mean    23.717699   62.789406       12.762576       5.705220  4504.348837   \n",
       "std      8.148059   14.242910        5.192357       2.321125  1937.211452   \n",
       "min      3.953480    0.000000        1.500244       0.670650    22.000000   \n",
       "25%     16.892125   52.000000        9.041650       4.041864  3152.000000   \n",
       "50%     24.336650   62.666700       12.125325       5.420351  4548.000000   \n",
       "75%     30.430100   73.020850       15.625371       6.984967  5956.000000   \n",
       "max     42.044800   97.250000       34.000021      15.198937  8714.000000   \n",
       "\n",
       "         season_2    season_3    season_4        yr_1     mnth_10  ...  \\\n",
       "count  731.000000  731.000000  731.000000  731.000000  731.000000  ...   \n",
       "mean     0.251710    0.257182    0.243502    0.500684    0.084815  ...   \n",
       "std      0.434293    0.437380    0.429489    0.500342    0.278797  ...   \n",
       "min      0.000000    0.000000    0.000000    0.000000    0.000000  ...   \n",
       "25%      0.000000    0.000000    0.000000    0.000000    0.000000  ...   \n",
       "50%      0.000000    0.000000    0.000000    1.000000    0.000000  ...   \n",
       "75%      1.000000    1.000000    0.000000    1.000000    0.000000  ...   \n",
       "max      1.000000    1.000000    1.000000    1.000000    1.000000  ...   \n",
       "\n",
       "        weekday_4   weekday_5   weekday_6  workingday_1  weathersit_2  \\\n",
       "count  731.000000  731.000000  731.000000    731.000000    731.000000   \n",
       "mean     0.142271    0.142271    0.143639      0.683995      0.337893   \n",
       "std      0.349567    0.349567    0.350963      0.465233      0.473316   \n",
       "min      0.000000    0.000000    0.000000      0.000000      0.000000   \n",
       "25%      0.000000    0.000000    0.000000      0.000000      0.000000   \n",
       "50%      0.000000    0.000000    0.000000      1.000000      0.000000   \n",
       "75%      0.000000    0.000000    0.000000      1.000000      1.000000   \n",
       "max      1.000000    1.000000    1.000000      1.000000      1.000000   \n",
       "\n",
       "       weathersit_3     atemp_sq       hum_sq  windspeed(mph)_sq  \\\n",
       "count    731.000000   731.000000   731.000000         731.000000   \n",
       "mean       0.028728   628.829309  4145.092503         189.807044   \n",
       "std        0.167155   383.586687  1796.618284         155.354933   \n",
       "min        0.000000    15.630004     0.000000           2.250732   \n",
       "25%        0.000000   285.343910  2704.000000          81.751435   \n",
       "50%        0.000000   592.272533  3927.115289         147.023506   \n",
       "75%        0.000000   925.991969  5332.044969         244.152235   \n",
       "max        1.000000  1767.765207  9457.562500        1156.001428   \n",
       "\n",
       "       windspeed(ms)_sq  \n",
       "count        731.000000  \n",
       "mean          37.929783  \n",
       "std           31.045101  \n",
       "min            0.449771  \n",
       "25%           16.336665  \n",
       "50%           29.380204  \n",
       "75%           48.789766  \n",
       "max          231.007671  \n",
       "\n",
       "[8 rows x 34 columns]"
      ]
     },
     "execution_count": 38,
     "metadata": {},
     "output_type": "execute_result"
    }
   ],
   "source": [
    "dff.describe()"
   ]
  },
  {
   "cell_type": "markdown",
   "metadata": {},
   "source": [
    "И тогда понятно, почему у некоторых признаков коэффициент может оказаться сильно меньше, чем у других. Потому что модели приходится с помощью коэффициентов приводить значения к одной шкале.\n",
    "\n",
    "Хорошим тоном является нормализация всех признаков. Например, можно привести значения каждого столбца к шкале $[0..1]$ с помощью следующего преобразования:\n",
    "$$\n",
    "\\frac{x - min(x)}{max(x)}\n",
    "$$\n",
    "\n",
    "Сделать это можно как ручками, так и с помощью питона:"
   ]
  },
  {
   "cell_type": "code",
   "execution_count": 39,
   "metadata": {},
   "outputs": [
    {
     "data": {
      "text/html": [
       "<div>\n",
       "<style scoped>\n",
       "    .dataframe tbody tr th:only-of-type {\n",
       "        vertical-align: middle;\n",
       "    }\n",
       "\n",
       "    .dataframe tbody tr th {\n",
       "        vertical-align: top;\n",
       "    }\n",
       "\n",
       "    .dataframe thead th {\n",
       "        text-align: right;\n",
       "    }\n",
       "</style>\n",
       "<table border=\"1\" class=\"dataframe\">\n",
       "  <thead>\n",
       "    <tr style=\"text-align: right;\">\n",
       "      <th></th>\n",
       "      <th>atemp</th>\n",
       "      <th>hum</th>\n",
       "      <th>windspeed(mph)</th>\n",
       "      <th>windspeed(ms)</th>\n",
       "      <th>season_2</th>\n",
       "      <th>season_3</th>\n",
       "      <th>season_4</th>\n",
       "      <th>yr_1</th>\n",
       "      <th>mnth_10</th>\n",
       "      <th>mnth_11</th>\n",
       "      <th>...</th>\n",
       "      <th>weekday_5</th>\n",
       "      <th>weekday_6</th>\n",
       "      <th>workingday_1</th>\n",
       "      <th>weathersit_2</th>\n",
       "      <th>weathersit_3</th>\n",
       "      <th>atemp_sq</th>\n",
       "      <th>hum_sq</th>\n",
       "      <th>windspeed(mph)_sq</th>\n",
       "      <th>windspeed(ms)_sq</th>\n",
       "      <th>super_nice_day</th>\n",
       "    </tr>\n",
       "  </thead>\n",
       "  <tbody>\n",
       "    <tr>\n",
       "      <th>0</th>\n",
       "      <td>0.373517</td>\n",
       "      <td>0.828620</td>\n",
       "      <td>0.284606</td>\n",
       "      <td>0.284606</td>\n",
       "      <td>0.0</td>\n",
       "      <td>0.0</td>\n",
       "      <td>0.0</td>\n",
       "      <td>0.0</td>\n",
       "      <td>0.0</td>\n",
       "      <td>0.0</td>\n",
       "      <td>...</td>\n",
       "      <td>0.0</td>\n",
       "      <td>1.0</td>\n",
       "      <td>0.0</td>\n",
       "      <td>1.0</td>\n",
       "      <td>0.0</td>\n",
       "      <td>0.179739</td>\n",
       "      <td>0.686611</td>\n",
       "      <td>0.098209</td>\n",
       "      <td>0.098209</td>\n",
       "      <td>0.0</td>\n",
       "    </tr>\n",
       "    <tr>\n",
       "      <th>1</th>\n",
       "      <td>0.360541</td>\n",
       "      <td>0.715771</td>\n",
       "      <td>0.466215</td>\n",
       "      <td>0.466215</td>\n",
       "      <td>0.0</td>\n",
       "      <td>0.0</td>\n",
       "      <td>0.0</td>\n",
       "      <td>0.0</td>\n",
       "      <td>0.0</td>\n",
       "      <td>0.0</td>\n",
       "      <td>...</td>\n",
       "      <td>0.0</td>\n",
       "      <td>0.0</td>\n",
       "      <td>0.0</td>\n",
       "      <td>1.0</td>\n",
       "      <td>0.0</td>\n",
       "      <td>0.169621</td>\n",
       "      <td>0.512328</td>\n",
       "      <td>0.238390</td>\n",
       "      <td>0.238390</td>\n",
       "      <td>0.0</td>\n",
       "    </tr>\n",
       "    <tr>\n",
       "      <th>2</th>\n",
       "      <td>0.144830</td>\n",
       "      <td>0.449638</td>\n",
       "      <td>0.465740</td>\n",
       "      <td>0.465740</td>\n",
       "      <td>0.0</td>\n",
       "      <td>0.0</td>\n",
       "      <td>0.0</td>\n",
       "      <td>0.0</td>\n",
       "      <td>0.0</td>\n",
       "      <td>0.0</td>\n",
       "      <td>...</td>\n",
       "      <td>0.0</td>\n",
       "      <td>0.0</td>\n",
       "      <td>1.0</td>\n",
       "      <td>0.0</td>\n",
       "      <td>0.0</td>\n",
       "      <td>0.042266</td>\n",
       "      <td>0.202174</td>\n",
       "      <td>0.237945</td>\n",
       "      <td>0.237945</td>\n",
       "      <td>0.0</td>\n",
       "    </tr>\n",
       "    <tr>\n",
       "      <th>3</th>\n",
       "      <td>0.174649</td>\n",
       "      <td>0.607131</td>\n",
       "      <td>0.284297</td>\n",
       "      <td>0.284297</td>\n",
       "      <td>0.0</td>\n",
       "      <td>0.0</td>\n",
       "      <td>0.0</td>\n",
       "      <td>0.0</td>\n",
       "      <td>0.0</td>\n",
       "      <td>0.0</td>\n",
       "      <td>...</td>\n",
       "      <td>0.0</td>\n",
       "      <td>0.0</td>\n",
       "      <td>1.0</td>\n",
       "      <td>0.0</td>\n",
       "      <td>0.0</td>\n",
       "      <td>0.055281</td>\n",
       "      <td>0.368608</td>\n",
       "      <td>0.098022</td>\n",
       "      <td>0.098022</td>\n",
       "      <td>0.0</td>\n",
       "    </tr>\n",
       "    <tr>\n",
       "      <th>4</th>\n",
       "      <td>0.197158</td>\n",
       "      <td>0.449313</td>\n",
       "      <td>0.339143</td>\n",
       "      <td>0.339143</td>\n",
       "      <td>0.0</td>\n",
       "      <td>0.0</td>\n",
       "      <td>0.0</td>\n",
       "      <td>0.0</td>\n",
       "      <td>0.0</td>\n",
       "      <td>0.0</td>\n",
       "      <td>...</td>\n",
       "      <td>0.0</td>\n",
       "      <td>0.0</td>\n",
       "      <td>1.0</td>\n",
       "      <td>0.0</td>\n",
       "      <td>0.0</td>\n",
       "      <td>0.066080</td>\n",
       "      <td>0.201882</td>\n",
       "      <td>0.133961</td>\n",
       "      <td>0.133961</td>\n",
       "      <td>0.0</td>\n",
       "    </tr>\n",
       "  </tbody>\n",
       "</table>\n",
       "<p>5 rows × 34 columns</p>\n",
       "</div>"
      ],
      "text/plain": [
       "      atemp       hum  windspeed(mph)  windspeed(ms)  season_2  season_3  \\\n",
       "0  0.373517  0.828620        0.284606       0.284606       0.0       0.0   \n",
       "1  0.360541  0.715771        0.466215       0.466215       0.0       0.0   \n",
       "2  0.144830  0.449638        0.465740       0.465740       0.0       0.0   \n",
       "3  0.174649  0.607131        0.284297       0.284297       0.0       0.0   \n",
       "4  0.197158  0.449313        0.339143       0.339143       0.0       0.0   \n",
       "\n",
       "   season_4  yr_1  mnth_10  mnth_11  ...  weekday_5  weekday_6  workingday_1  \\\n",
       "0       0.0   0.0      0.0      0.0  ...        0.0        1.0           0.0   \n",
       "1       0.0   0.0      0.0      0.0  ...        0.0        0.0           0.0   \n",
       "2       0.0   0.0      0.0      0.0  ...        0.0        0.0           1.0   \n",
       "3       0.0   0.0      0.0      0.0  ...        0.0        0.0           1.0   \n",
       "4       0.0   0.0      0.0      0.0  ...        0.0        0.0           1.0   \n",
       "\n",
       "   weathersit_2  weathersit_3  atemp_sq    hum_sq  windspeed(mph)_sq  \\\n",
       "0           1.0           0.0  0.179739  0.686611           0.098209   \n",
       "1           1.0           0.0  0.169621  0.512328           0.238390   \n",
       "2           0.0           0.0  0.042266  0.202174           0.237945   \n",
       "3           0.0           0.0  0.055281  0.368608           0.098022   \n",
       "4           0.0           0.0  0.066080  0.201882           0.133961   \n",
       "\n",
       "   windspeed(ms)_sq  super_nice_day  \n",
       "0          0.098209             0.0  \n",
       "1          0.238390             0.0  \n",
       "2          0.237945             0.0  \n",
       "3          0.098022             0.0  \n",
       "4          0.133961             0.0  \n",
       "\n",
       "[5 rows x 34 columns]"
      ]
     },
     "execution_count": 39,
     "metadata": {},
     "output_type": "execute_result"
    }
   ],
   "source": [
    "from sklearn.preprocessing import MinMaxScaler\n",
    "\n",
    "# Создаём инструмент для нормализации признаков.\n",
    "min_max_scaler = MinMaxScaler()\n",
    "# Преобразуем признаки (на выходе будет np.ndarray).\n",
    "X_scaled = min_max_scaler.fit_transform(X)\n",
    "# Преобразуем np.ndarray обратно в pandas таблицу для удобства.\n",
    "X_scaled = pd.DataFrame(X_scaled, columns=X.columns)\n",
    "\n",
    "X_scaled.head()"
   ]
  },
  {
   "cell_type": "markdown",
   "metadata": {},
   "source": [
    "Теперь попробуйте снова обучить модель и посмотреть, есть ли различия:"
   ]
  },
  {
   "cell_type": "code",
   "execution_count": 40,
   "metadata": {},
   "outputs": [],
   "source": [
    "#ваш код"
   ]
  }
 ],
 "metadata": {
  "kernelspec": {
   "display_name": "Python 3 (ipykernel)",
   "language": "python",
   "name": "python3"
  },
  "language_info": {
   "codemirror_mode": {
    "name": "ipython",
    "version": 3
   },
   "file_extension": ".py",
   "mimetype": "text/x-python",
   "name": "python",
   "nbconvert_exporter": "python",
   "pygments_lexer": "ipython3",
   "version": "3.9.7"
  }
 },
 "nbformat": 4,
 "nbformat_minor": 2
}
